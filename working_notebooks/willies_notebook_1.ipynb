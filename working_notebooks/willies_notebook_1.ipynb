{
 "cells": [
  {
   "cell_type": "markdown",
   "metadata": {},
   "source": [
    "# Parole Models: Initial data exploration, cleaning, & processing\n",
    "\n",
    "### Willie Costello"
   ]
  },
  {
   "cell_type": "code",
   "execution_count": 1,
   "metadata": {},
   "outputs": [],
   "source": [
    "import numpy as np\n",
    "import pandas as pd\n",
    "import matplotlib.pyplot as plt\n",
    "import seaborn as sns\n",
    "\n",
    "%matplotlib inline\n",
    "plt.rcParams['figure.figsize']=(8.0, 6.0)\n",
    "%config InlineBackend.figure_format='retina'"
   ]
  },
  {
   "cell_type": "markdown",
   "metadata": {},
   "source": [
    "## Importing & cleaning data"
   ]
  },
  {
   "cell_type": "code",
   "execution_count": 2,
   "metadata": {},
   "outputs": [],
   "source": [
    "df_raw = pd.read_csv('~/data/ParoleModels/data.csv')"
   ]
  },
  {
   "cell_type": "code",
   "execution_count": 3,
   "metadata": {},
   "outputs": [
    {
     "data": {
      "text/plain": [
       "(744958, 26)"
      ]
     },
     "execution_count": 3,
     "metadata": {},
     "output_type": "execute_result"
    }
   ],
   "source": [
    "df_raw.shape"
   ]
  },
  {
   "cell_type": "code",
   "execution_count": 4,
   "metadata": {},
   "outputs": [
    {
     "data": {
      "text/plain": [
       "0"
      ]
     },
     "execution_count": 4,
     "metadata": {},
     "output_type": "execute_result"
    }
   ],
   "source": [
    "# Check for duplicates\n",
    "df_raw.duplicated().sum()"
   ]
  },
  {
   "cell_type": "code",
   "execution_count": 5,
   "metadata": {},
   "outputs": [
    {
     "data": {
      "text/plain": [
       "FISCAL YEAR                     0.000000\n",
       "WARRANT ID                      0.000000\n",
       "LOCATION TYPE                   0.000000\n",
       "PROVINCE                        0.000000\n",
       "OFFENCE ID                      0.000000\n",
       "SENTENCE TYPE                   0.000000\n",
       "JURISDICTION                    0.000000\n",
       "OFFENCE DESCRIPTION             0.000000\n",
       "AGE                             0.000000\n",
       "GENDER                          0.000000\n",
       "RACE GROUPING                   0.000000\n",
       "OFFENDER NUMBER                 0.000000\n",
       "IN CUSTODY/COMMUNITY            0.000000\n",
       "SENTENCE ID                     0.000000\n",
       "AGGREGATE SENTENCE LENGTH       0.000008\n",
       "COURT                           0.014460\n",
       "RACE                            0.017673\n",
       "STATIC/RISK                     0.029078\n",
       "DYNAMIC/NEED                    0.029407\n",
       "REINTEGRATION POTENTIAL         0.030132\n",
       "MOTIVATION                      0.030594\n",
       "OFFENDER SECURITY LEVEL         0.065860\n",
       "RELIGION                        0.070193\n",
       "INSTUTUTIONAL SECURITY LEVEL    0.317110\n",
       "SUPERVISION TYPE                0.640970\n",
       "JUDGE                           1.000000\n",
       "dtype: float64"
      ]
     },
     "execution_count": 5,
     "metadata": {},
     "output_type": "execute_result"
    }
   ],
   "source": [
    "# Check for missing values\n",
    "df_raw.isna().mean().sort_values()"
   ]
  },
  {
   "cell_type": "markdown",
   "metadata": {},
   "source": [
    "`JUDGE` column is 100% missing values, so we will drop it. We will also here drop `RACE GROUPING`, `RELIGION`, `COURT`, `LOCATION TYPE`, `WARRANT ID`, `OFFENCE ID`, and `SENTENCE ID` since we will not be making use of these data. In addition, because `REINTEGRATION POTENTIAL` is the column we're looking to predict, we will drop all rows with missing values in this column."
   ]
  },
  {
   "cell_type": "code",
   "execution_count": 6,
   "metadata": {},
   "outputs": [],
   "source": [
    "df_clean = df_raw.drop(['JUDGE', 'PROVINCE', 'RACE GROUPING', 'RELIGION', 'COURT', 'LOCATION TYPE', \n",
    "                        'WARRANT ID', 'OFFENCE ID', 'SENTENCE ID', 'OFFENDER SECURITY LEVEL'], axis=1)\n",
    "df_clean.dropna(subset=['REINTEGRATION POTENTIAL'], inplace=True)"
   ]
  },
  {
   "cell_type": "markdown",
   "metadata": {},
   "source": [
    "The `INSTUTUTIONAL (sic) SECURITY LEVEL` and `SUPERVISION TYPE` columns also have a high percentage of missing values, but they are complementary: records with missing `INSTITUTIONAL SECURITY LEVEL` values have a `SUPERVISION TYPE` value, and vice versa. This is because inmates without an institutional security level are no longer in custody but in the community, and thus have a supervision type, and inmates without a supervision type are not in the community but in custody, and thus have an institutional security level.\n",
    "\n",
    "Here we will combine the data from these two columns in a new single column, `SECURITY/SUPERVISION`. The rows with missing values in this new column will then be dropped."
   ]
  },
  {
   "cell_type": "code",
   "execution_count": 7,
   "metadata": {},
   "outputs": [],
   "source": [
    "# Combine Institutional Security Level and Supervision Type values into single column\n",
    "df_clean['SECURITY/SUPERVISION'] = df_clean['INSTUTUTIONAL SECURITY LEVEL'].fillna(df_clean['SUPERVISION TYPE'])\n",
    "\n",
    "# Drop Institutional Security Level, Supervision Type, and In Custody/Community columns\n",
    "df_clean.drop(['INSTUTUTIONAL SECURITY LEVEL', 'SUPERVISION TYPE', 'IN CUSTODY/COMMUNITY'], axis=1, inplace=True)"
   ]
  },
  {
   "cell_type": "markdown",
   "metadata": {},
   "source": [
    "Let's next convert the `FISCAL YEAR` column into something more descriptive."
   ]
  },
  {
   "cell_type": "code",
   "execution_count": 8,
   "metadata": {},
   "outputs": [],
   "source": [
    "df_clean['YEAR'] = df_clean['FISCAL YEAR'].apply(lambda x: '20' + x[-2:])"
   ]
  },
  {
   "cell_type": "markdown",
   "metadata": {},
   "source": [
    "Let's now convert the `DETERMINATE SENTENCE` column into a binary column."
   ]
  },
  {
   "cell_type": "code",
   "execution_count": 9,
   "metadata": {},
   "outputs": [],
   "source": [
    "df_clean['DETERMINATE_SENTENCE'] = np.where(df_clean['SENTENCE TYPE']=='DETERMINATE', 1, 0)"
   ]
  },
  {
   "cell_type": "code",
   "execution_count": 10,
   "metadata": {},
   "outputs": [],
   "source": [
    "# Round Offender Number to five decimal points, to fix some datatype issues\n",
    "df_clean['OFFENDER ID'] = df_clean['OFFENDER NUMBER'].apply(lambda x: round(x, 5))"
   ]
  },
  {
   "cell_type": "code",
   "execution_count": 11,
   "metadata": {},
   "outputs": [],
   "source": [
    "# Drop converted columns\n",
    "df_clean.drop(['FISCAL YEAR', 'SENTENCE TYPE', 'OFFENDER NUMBER'], axis=1, inplace=True)"
   ]
  },
  {
   "cell_type": "code",
   "execution_count": 12,
   "metadata": {},
   "outputs": [],
   "source": [
    "# Reformat column names\n",
    "df_clean.columns = [x.lower().replace(' ', '_') for x in df_clean.columns]"
   ]
  },
  {
   "cell_type": "code",
   "execution_count": 13,
   "metadata": {},
   "outputs": [],
   "source": [
    "# Drop remaining missing values\n",
    "df_clean.dropna(inplace=True)"
   ]
  },
  {
   "cell_type": "code",
   "execution_count": 14,
   "metadata": {},
   "outputs": [
    {
     "data": {
      "text/plain": [
       "(710831, 14)"
      ]
     },
     "execution_count": 14,
     "metadata": {},
     "output_type": "execute_result"
    }
   ],
   "source": [
    "df_clean.shape"
   ]
  },
  {
   "cell_type": "code",
   "execution_count": 15,
   "metadata": {},
   "outputs": [
    {
     "data": {
      "text/html": [
       "<div>\n",
       "<style scoped>\n",
       "    .dataframe tbody tr th:only-of-type {\n",
       "        vertical-align: middle;\n",
       "    }\n",
       "\n",
       "    .dataframe tbody tr th {\n",
       "        vertical-align: top;\n",
       "    }\n",
       "\n",
       "    .dataframe thead th {\n",
       "        text-align: right;\n",
       "    }\n",
       "</style>\n",
       "<table border=\"1\" class=\"dataframe\">\n",
       "  <thead>\n",
       "    <tr style=\"text-align: right;\">\n",
       "      <th></th>\n",
       "      <th>race</th>\n",
       "      <th>gender</th>\n",
       "      <th>age</th>\n",
       "      <th>jurisdiction</th>\n",
       "      <th>aggregate_sentence_length</th>\n",
       "      <th>dynamic/need</th>\n",
       "      <th>static/risk</th>\n",
       "      <th>reintegration_potential</th>\n",
       "      <th>motivation</th>\n",
       "      <th>offence_description</th>\n",
       "      <th>security/supervision</th>\n",
       "      <th>year</th>\n",
       "      <th>determinate_sentence</th>\n",
       "      <th>offender_id</th>\n",
       "    </tr>\n",
       "  </thead>\n",
       "  <tbody>\n",
       "    <tr>\n",
       "      <th>0</th>\n",
       "      <td>White</td>\n",
       "      <td>MALE</td>\n",
       "      <td>23</td>\n",
       "      <td>FEDERAL</td>\n",
       "      <td>1096.0</td>\n",
       "      <td>MEDIUM</td>\n",
       "      <td>LOW</td>\n",
       "      <td>HIGH</td>\n",
       "      <td>HIGH</td>\n",
       "      <td>POSS PROH/RESTR F/ARM W/AMMUN</td>\n",
       "      <td>MINIMUM</td>\n",
       "      <td>2012</td>\n",
       "      <td>1</td>\n",
       "      <td>82.50710</td>\n",
       "    </tr>\n",
       "    <tr>\n",
       "      <th>1</th>\n",
       "      <td>White</td>\n",
       "      <td>MALE</td>\n",
       "      <td>23</td>\n",
       "      <td>FEDERAL</td>\n",
       "      <td>1096.0</td>\n",
       "      <td>MEDIUM</td>\n",
       "      <td>LOW</td>\n",
       "      <td>HIGH</td>\n",
       "      <td>HIGH</td>\n",
       "      <td>FAIL TO COMPLY W/ PROBATION ORDER</td>\n",
       "      <td>MINIMUM</td>\n",
       "      <td>2012</td>\n",
       "      <td>1</td>\n",
       "      <td>82.50710</td>\n",
       "    </tr>\n",
       "    <tr>\n",
       "      <th>2</th>\n",
       "      <td>White</td>\n",
       "      <td>MALE</td>\n",
       "      <td>23</td>\n",
       "      <td>FEDERAL</td>\n",
       "      <td>1096.0</td>\n",
       "      <td>MEDIUM</td>\n",
       "      <td>LOW</td>\n",
       "      <td>HIGH</td>\n",
       "      <td>HIGH</td>\n",
       "      <td>POSS SCHEDULE I/II SUBST FOR PURP TRAFF</td>\n",
       "      <td>MINIMUM</td>\n",
       "      <td>2012</td>\n",
       "      <td>1</td>\n",
       "      <td>82.50710</td>\n",
       "    </tr>\n",
       "    <tr>\n",
       "      <th>3</th>\n",
       "      <td>White</td>\n",
       "      <td>MALE</td>\n",
       "      <td>39</td>\n",
       "      <td>FEDERAL</td>\n",
       "      <td>732.0</td>\n",
       "      <td>HIGH</td>\n",
       "      <td>HIGH</td>\n",
       "      <td>LOW</td>\n",
       "      <td>MEDIUM</td>\n",
       "      <td>ASSAULT - USE OF FORCE</td>\n",
       "      <td>MEDIUM</td>\n",
       "      <td>2012</td>\n",
       "      <td>1</td>\n",
       "      <td>104.76347</td>\n",
       "    </tr>\n",
       "    <tr>\n",
       "      <th>4</th>\n",
       "      <td>White</td>\n",
       "      <td>MALE</td>\n",
       "      <td>39</td>\n",
       "      <td>FEDERAL</td>\n",
       "      <td>732.0</td>\n",
       "      <td>HIGH</td>\n",
       "      <td>HIGH</td>\n",
       "      <td>LOW</td>\n",
       "      <td>MEDIUM</td>\n",
       "      <td>ROBBERY - ALL OTHERS</td>\n",
       "      <td>MEDIUM</td>\n",
       "      <td>2012</td>\n",
       "      <td>1</td>\n",
       "      <td>104.76347</td>\n",
       "    </tr>\n",
       "  </tbody>\n",
       "</table>\n",
       "</div>"
      ],
      "text/plain": [
       "    race gender  age jurisdiction  aggregate_sentence_length dynamic/need  \\\n",
       "0  White   MALE   23      FEDERAL                     1096.0       MEDIUM   \n",
       "1  White   MALE   23      FEDERAL                     1096.0       MEDIUM   \n",
       "2  White   MALE   23      FEDERAL                     1096.0       MEDIUM   \n",
       "3  White   MALE   39      FEDERAL                      732.0         HIGH   \n",
       "4  White   MALE   39      FEDERAL                      732.0         HIGH   \n",
       "\n",
       "  static/risk reintegration_potential motivation  \\\n",
       "0         LOW                    HIGH       HIGH   \n",
       "1         LOW                    HIGH       HIGH   \n",
       "2         LOW                    HIGH       HIGH   \n",
       "3        HIGH                     LOW     MEDIUM   \n",
       "4        HIGH                     LOW     MEDIUM   \n",
       "\n",
       "                       offence_description security/supervision  year  \\\n",
       "0            POSS PROH/RESTR F/ARM W/AMMUN              MINIMUM  2012   \n",
       "1        FAIL TO COMPLY W/ PROBATION ORDER              MINIMUM  2012   \n",
       "2  POSS SCHEDULE I/II SUBST FOR PURP TRAFF              MINIMUM  2012   \n",
       "3                   ASSAULT - USE OF FORCE               MEDIUM  2012   \n",
       "4                     ROBBERY - ALL OTHERS               MEDIUM  2012   \n",
       "\n",
       "   determinate_sentence  offender_id  \n",
       "0                     1     82.50710  \n",
       "1                     1     82.50710  \n",
       "2                     1     82.50710  \n",
       "3                     1    104.76347  \n",
       "4                     1    104.76347  "
      ]
     },
     "execution_count": 15,
     "metadata": {},
     "output_type": "execute_result"
    }
   ],
   "source": [
    "df_clean.head()"
   ]
  },
  {
   "cell_type": "markdown",
   "metadata": {},
   "source": [
    "Since we are interested in each inmate's annual reintegration potential score assessment, we create a unique identifier that combines each inmate's unique offender ID with the year of assessment."
   ]
  },
  {
   "cell_type": "code",
   "execution_count": 16,
   "metadata": {},
   "outputs": [],
   "source": [
    "df_clean['id'] = df_clean['offender_id'].astype(str) + '_' + df_clean['year'].astype(str)\n",
    "df_clean.drop(['offender_id', 'year'], axis=1, inplace=True)"
   ]
  },
  {
   "cell_type": "markdown",
   "metadata": {},
   "source": [
    "Following the *Globe*'s analysis, we will only consider data from offenders serving a federal sentence, as indicated in the `jurisdiction` column. For the purposes of our analysis, we will also only consider data from male-identifying inmates, since they make up the vast majority of our data."
   ]
  },
  {
   "cell_type": "code",
   "execution_count": 17,
   "metadata": {},
   "outputs": [],
   "source": [
    "df_filter = df_clean[(df_clean['jurisdiction']=='FEDERAL') & (df_clean['gender']=='MALE')].copy()\n",
    "df_filter.drop(['jurisdiction', 'gender'], axis=1, inplace=True)"
   ]
  },
  {
   "cell_type": "code",
   "execution_count": 18,
   "metadata": {},
   "outputs": [],
   "source": [
    "# Create a copy of cleaned dataframe\n",
    "df = df_filter.copy().reset_index(drop=True)"
   ]
  },
  {
   "cell_type": "markdown",
   "metadata": {},
   "source": [
    "## Exploring column values"
   ]
  },
  {
   "cell_type": "code",
   "execution_count": 19,
   "metadata": {},
   "outputs": [
    {
     "name": "stdout",
     "output_type": "stream",
     "text": [
      "Value counts for race\n",
      "\n",
      "White              450595\n",
      "North American      85756\n",
      "Black               48139\n",
      "Metis               46340\n",
      "S. E. Asian          5822\n",
      "Inuit                5392\n",
      "Arab/West Asian      5367\n",
      "Latin American       5156\n",
      "Arab                 3531\n",
      "Multirac/Ethnic      3352\n",
      "South Asian          2861\n",
      "Other                2186\n",
      "Asi-E/Southeast      1931\n",
      "Chinese              1931\n",
      "Filipino             1469\n",
      "Asian-South          1238\n",
      "Caribbean            1179\n",
      "Unable Specify        783\n",
      "Euro.-Eastern         684\n",
      "Asiatic               630\n",
      "Euro.-Southern        460\n",
      "Sub-Sahara Afri       426\n",
      "Korean                320\n",
      "Euro.-Western         307\n",
      "Asian-West            238\n",
      "East Indian           208\n",
      "Japanese              149\n",
      "Hispanic              124\n",
      "Oceania               120\n",
      "Euro.-Northern         81\n",
      "European French        81\n",
      "British Isles          64\n",
      "Unknown                52\n",
      "Name: race, dtype: int64\n",
      "\n",
      "-------------------------\n",
      "\n",
      "Value counts for dynamic/need\n",
      "\n",
      "HIGH      396823\n",
      "MEDIUM    211521\n",
      "LOW        68628\n",
      "Name: dynamic/need, dtype: int64\n",
      "\n",
      "-------------------------\n",
      "\n",
      "Value counts for static/risk\n",
      "\n",
      "HIGH      366146\n",
      "MEDIUM    231393\n",
      "LOW        79433\n",
      "Name: static/risk, dtype: int64\n",
      "\n",
      "-------------------------\n",
      "\n",
      "Value counts for reintegration_potential\n",
      "\n",
      "MEDIUM    285086\n",
      "LOW       274414\n",
      "HIGH      117472\n",
      "Name: reintegration_potential, dtype: int64\n",
      "\n",
      "-------------------------\n",
      "\n",
      "Value counts for motivation\n",
      "\n",
      "MEDIUM    376344\n",
      "HIGH      174605\n",
      "LOW       126023\n",
      "Name: motivation, dtype: int64\n",
      "\n",
      "-------------------------\n",
      "\n",
      "Value counts for offence_description\n",
      "\n",
      "ROBBERY - ALL OTHERS                       34288\n",
      "FAIL TO COMPLY W/COND OF UNDER/RECOG       29129\n",
      "BREAK ENTER AND COMMIT                     27761\n",
      "POSS SCHEDULE I/II SUBST FOR PURP TRAFF    25997\n",
      "FAIL TO COMPLY W/ PROBATION ORDER          23664\n",
      "                                           ...  \n",
      "AID SUICIDE                                    1\n",
      "ABDUCTION CONTRAVENING CUSTODY ORDER           1\n",
      "COMMIT/INCITE BESTIALITY UNDER 14              1\n",
      "SEX ASSAULT W/THREATS TO CBH- FIREARM          1\n",
      "HIJACK - CONFINE PERSON                        1\n",
      "Name: offence_description, Length: 719, dtype: int64\n",
      "\n",
      "-------------------------\n",
      "\n",
      "Value counts for security/supervision\n",
      "\n",
      "MEDIUM             182321\n",
      "MULTI-LEVEL        179344\n",
      "STAT RELEASE       103874\n",
      "MAXIMUM             74314\n",
      "FULL PAROLE         70273\n",
      "DAY PAROLE          32480\n",
      "MINIMUM             24792\n",
      "LONG TERM SUPER      9574\n",
      "Name: security/supervision, dtype: int64\n",
      "\n",
      "-------------------------\n",
      "\n",
      "Value counts for id\n",
      "\n",
      "862839.2161_2013    257\n",
      "862839.2161_2015    257\n",
      "862839.2161_2016    257\n",
      "348602.4816_2013    182\n",
      "348602.4816_2018    182\n",
      "                   ... \n",
      "809830.6688_2012      1\n",
      "653509.8012_2012      1\n",
      "746073.8322_2017      1\n",
      "309435.4339_2012      1\n",
      "323778.394_2012       1\n",
      "Name: id, Length: 141409, dtype: int64\n",
      "\n",
      "-------------------------\n",
      "\n"
     ]
    }
   ],
   "source": [
    "for col in df.select_dtypes(object).columns:\n",
    "    print(f'Value counts for {col}\\n')\n",
    "    print(df[col].value_counts())\n",
    "    print('\\n-------------------------\\n')"
   ]
  },
  {
   "cell_type": "code",
   "execution_count": 20,
   "metadata": {},
   "outputs": [
    {
     "data": {
      "image/png": "[encoded data removed]",
      "text/plain": [
       "<Figure size 576x432 with 1 Axes>"
      ]
     },
     "metadata": {
      "image/png": {
       "height": 386,
       "width": 506
      },
      "needs_background": "light"
     },
     "output_type": "display_data"
    }
   ],
   "source": [
    "plt.figure()\n",
    "sns.distplot(df['age'], bins=15, kde=False)\n",
    "plt.xlabel('Age')\n",
    "plt.title('Distribution of age values')\n",
    "plt.show()"
   ]
  },
  {
   "cell_type": "code",
   "execution_count": 21,
   "metadata": {},
   "outputs": [
    {
     "data": {
      "image/png": "[encoded data removed]",
      "text/plain": [
       "<Figure size 576x432 with 1 Axes>"
      ]
     },
     "metadata": {
      "image/png": {
       "height": 386,
       "width": 506
      },
      "needs_background": "light"
     },
     "output_type": "display_data"
    }
   ],
   "source": [
    "plt.figure()\n",
    "sns.distplot(df['aggregate_sentence_length'] / 365, kde=False)\n",
    "plt.xlabel('Aggregate sentence length (years)')\n",
    "plt.title('Distribution of sentence length values')\n",
    "plt.show()"
   ]
  },
  {
   "cell_type": "markdown",
   "metadata": {},
   "source": [
    "## Consolidating race column\n",
    "\n",
    "Following the *Globe*'s methodology, we will consolidate the 33 races in the `race` column into simpler groupings (such as Black, Indigenous, White and Latino), using [Ontario's Data Standards for the Identification and Monitoring of Systemic Racism](https://files.ontario.ca/solgen_data-standards-en.pdf). Since our analysis, like the *Globe*'s, is focused on the differences between White, Black and Indigenous inmates, we further consolidate other races into an \"other\" category."
   ]
  },
  {
   "cell_type": "code",
   "execution_count": 22,
   "metadata": {},
   "outputs": [],
   "source": [
    "race_dict = {'White':'White',\n",
    "             'Euro.-Southern':'White', \n",
    "             'Euro.-Eastern':'White',\n",
    "             'Euro.-Western':'White',\n",
    "             'Euro.-Northern':'White',\n",
    "             'British Isles':'White',\n",
    "             'European French':'White',\n",
    "             'Black':'Black',\n",
    "             'Caribbean':'Black',\n",
    "             'Sub-Sahara Afri':'Black',\n",
    "             'North American':'Indigenous',\n",
    "             'Metis':'Indigenous', \n",
    "             'Inuit':'Indigenous'}"
   ]
  },
  {
   "cell_type": "code",
   "execution_count": 23,
   "metadata": {},
   "outputs": [],
   "source": [
    "df['race'] = df['race'].map(race_dict)\n",
    "df['race'] = df['race'].fillna('Other')"
   ]
  },
  {
   "cell_type": "markdown",
   "metadata": {},
   "source": [
    "## Transforming multilevel columns\n",
    "\n",
    "Various columns are encoded as either `LOW`, `MEDIUM`, or `HIGH`, where `LOW` indicates a negative assessment, `HIGH` indicates a positive assessment, and `MEDIUM` indicates that there wasn't sufficient evidence to issue an assessment in either direction. As such, I believe it makes sense to encode these columns numerically, as `-1`, `0`, or `1`."
   ]
  },
  {
   "cell_type": "code",
   "execution_count": 24,
   "metadata": {},
   "outputs": [],
   "source": [
    "lmh_dict = {'LOW':-1,\n",
    "            'MEDIUM':0,\n",
    "            'HIGH':1}"
   ]
  },
  {
   "cell_type": "code",
   "execution_count": 25,
   "metadata": {},
   "outputs": [],
   "source": [
    "# Loop through low/medium/high columns\n",
    "for col in ['static/risk', 'dynamic/need', 'motivation', 'reintegration_potential']:\n",
    "\n",
    "    # Encode values numerically\n",
    "    df[col] = df[col].map(lmh_dict)"
   ]
  },
  {
   "cell_type": "markdown",
   "metadata": {},
   "source": [
    "The `security/supervision` column has eight different values; we will one-hot encode these values as separate columns."
   ]
  },
  {
   "cell_type": "code",
   "execution_count": 26,
   "metadata": {},
   "outputs": [],
   "source": [
    "# Transform security/supervision column with one-hot encoding\n",
    "df['security/supervision'] = df['security/supervision'].str.lower().str.replace(' ', '_')\n",
    "secsup_dummies = pd.get_dummies(df['security/supervision'], prefix='sec/sup').drop(f'sec/sup_long_term_super', axis=1)\n",
    "df = pd.concat([df, secsup_dummies], axis=1).drop('security/supervision', axis=1)"
   ]
  },
  {
   "cell_type": "markdown",
   "metadata": {},
   "source": [
    "## Binning age & sentence length values"
   ]
  },
  {
   "cell_type": "code",
   "execution_count": 27,
   "metadata": {},
   "outputs": [],
   "source": [
    "df['age'] = pd.qcut(df['age'], 10, labels=np.arange(.1,1.1,.1)).astype(float)\n",
    "df['aggregate_sentence_length'] = pd.qcut(df['aggregate_sentence_length'] / 365.25, 10, labels=np.arange(.1,1.1,.1)).astype(float)"
   ]
  },
  {
   "cell_type": "markdown",
   "metadata": {},
   "source": [
    "## Filtering to top offences"
   ]
  },
  {
   "cell_type": "code",
   "execution_count": 28,
   "metadata": {},
   "outputs": [],
   "source": [
    "# Lowercase column values & replace whitespaces with underscores\n",
    "df['offence_description'] = df['offence_description'].str.lower().str.replace(' ', '_')"
   ]
  },
  {
   "cell_type": "code",
   "execution_count": 29,
   "metadata": {},
   "outputs": [],
   "source": [
    "# Get normalized value counts for all offence descriptions\n",
    "offence_pcts = df['offence_description'].value_counts(normalize=True)"
   ]
  },
  {
   "cell_type": "code",
   "execution_count": 30,
   "metadata": {},
   "outputs": [
    {
     "data": {
      "text/plain": [
       "robbery_-_all_others                       0.050649\n",
       "fail_to_comply_w/cond_of_under/recog       0.043028\n",
       "break_enter_and_commit                     0.041008\n",
       "poss_schedule_i/ii_subst_for_purp_traff    0.038402\n",
       "fail_to_comply_w/_probation_order          0.034956\n",
       "                                             ...   \n",
       "production_of_sched_i/ii_subst             0.001041\n",
       "attempt                                    0.001021\n",
       "disobey_order_of_court                     0.001013\n",
       "traffic_in_schedule_iii_substance          0.001013\n",
       "procures/poss/sells_identity_document      0.001010\n",
       "Name: offence_description, Length: 138, dtype: float64"
      ]
     },
     "execution_count": 30,
     "metadata": {},
     "output_type": "execute_result"
    }
   ],
   "source": [
    "# Filter to offence descriptions that appear in more than 0.1% of the data\n",
    "offence_pcts[offence_pcts > .001]"
   ]
  },
  {
   "cell_type": "code",
   "execution_count": 31,
   "metadata": {},
   "outputs": [],
   "source": [
    "# Create a list of these top offences\n",
    "top_offences = offence_pcts[offence_pcts > .001].index.tolist()"
   ]
  },
  {
   "cell_type": "code",
   "execution_count": 32,
   "metadata": {},
   "outputs": [],
   "source": [
    "# Filter dataframe to only rows with one of these top offences\n",
    "df_filtered = df[df['offence_description'].isin(top_offences)].reset_index(drop=True)"
   ]
  },
  {
   "cell_type": "markdown",
   "metadata": {},
   "source": [
    "## Transforming data"
   ]
  },
  {
   "cell_type": "code",
   "execution_count": 33,
   "metadata": {},
   "outputs": [],
   "source": [
    "# Dummify offence description column\n",
    "offence_dummies = pd.get_dummies(df_filtered['offence_description'], prefix='offence')"
   ]
  },
  {
   "cell_type": "markdown",
   "metadata": {},
   "source": [
    "There are two ways we may want to aggregate our dummified offence description columns: We can either record the inmate's total number of charges for each offence type, or we can simply record whether or not the inmate was charged with each offence type (regardless of the total number of charges). It's not clear to me which method will be better for modelling purposes, so I'll here do both."
   ]
  },
  {
   "cell_type": "code",
   "execution_count": 34,
   "metadata": {},
   "outputs": [],
   "source": [
    "# Add dummy columns to dataframe's Offender ID & year columns\n",
    "df_off_dummies = pd.concat([df_filtered['id'], offence_dummies], axis=1)\n",
    "\n",
    "# Group dataframe and take the sum\n",
    "df_off_sum = df_off_dummies.groupby('id').sum()\n",
    "\n",
    "# Group dataframe and take the max\n",
    "df_off_binary = df_off_dummies.groupby('id').max()"
   ]
  },
  {
   "cell_type": "markdown",
   "metadata": {},
   "source": [
    "## Stitching it all together\n",
    "\n",
    "An individual inmate may occupy multiple rows in the dataframe in a given year, one row for each of their offences. In these cases, only the `offence_description` column differs; all of the other columns are the same. Thus, we can consolidate all of the inmate's other information by dropping the `offence_description` column and dropping all duplicate rows."
   ]
  },
  {
   "cell_type": "code",
   "execution_count": 35,
   "metadata": {},
   "outputs": [],
   "source": [
    "# Drop offence description column\n",
    "df_stats = df.drop('offence_description', axis=1)\n",
    "\n",
    "# Drop duplicates to collapse each year/offender into a single record\n",
    "df_stats.drop_duplicates(inplace=True)"
   ]
  },
  {
   "cell_type": "markdown",
   "metadata": {},
   "source": [
    "We can now combine dummified offence description dataframes with our new inmate statistics dataframe, by joining these dataframes together on the unique `id` column."
   ]
  },
  {
   "cell_type": "code",
   "execution_count": 36,
   "metadata": {},
   "outputs": [],
   "source": [
    "df_sum = df_stats.join(df_off_sum, on='id', how='inner')\n",
    "df_binary = df_stats.join(df_off_binary, on='id', how='inner')"
   ]
  },
  {
   "cell_type": "code",
   "execution_count": 37,
   "metadata": {},
   "outputs": [],
   "source": [
    "# Write dataframes to file\n",
    "df_sum.to_csv('~/data/ParoleModels/df_sum.csv', index=False)\n",
    "df_binary.to_csv('~/data/ParoleModels/df_binary.csv', index=False)"
   ]
  }
 ],
 "metadata": {
  "kernelspec": {
   "display_name": "Python 3",
   "language": "python",
   "name": "python3"
  },
  "language_info": {
   "codemirror_mode": {
    "name": "ipython",
    "version": 3
   },
   "file_extension": ".py",
   "mimetype": "text/x-python",
   "name": "python",
   "nbconvert_exporter": "python",
   "pygments_lexer": "ipython3",
   "version": "3.7.4"
  }
 },
 "nbformat": 4,
 "nbformat_minor": 4
}
