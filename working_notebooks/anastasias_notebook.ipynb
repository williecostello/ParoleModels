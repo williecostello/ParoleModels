{
 "cells": [
  {
   "cell_type": "markdown",
   "metadata": {},
   "source": [
    "# Feature Engineering \n",
    "\n",
    "In this notebook we'll start with a lightly cleaned version of the CSC dataset. We'll go through the following steps:\n",
    "\n",
    "* Examine and visualize missing data. \n",
    "* Determine where it's appropriate to drop records, and the right way to impute missing values for remaining records.\n",
    "* Bin some of our numeric features. \n",
    "* Condense our offence descriptions. \n",
    "* OneHot & ordinal encode our variables. \n",
    "* Reshape dataframe so that each record is an inmate in a particular year. \n",
    "\n",
    "Let's start by importing our packages and reading in the data."
   ]
  },
  {
   "cell_type": "code",
   "execution_count": 1,
   "metadata": {},
   "outputs": [],
   "source": [
    "# Import packages\n",
    "\n",
    "import pandas as pd\n",
    "import numpy as np\n",
    "import matplotlib.pyplot as plt\n",
    "import missingno as msno"
   ]
  },
  {
   "cell_type": "code",
   "execution_count": 2,
   "metadata": {},
   "outputs": [],
   "source": [
    "#Read in CSV\n",
    "df = pd.read_csv('cleaned_data.csv', index_col=0)\n",
    "\n",
    "#Make sure all rows are displayed \n",
    "pd.set_option('display.max_columns', None)\n",
    "pd.set_option('display.max_rows', 100)"
   ]
  },
  {
   "cell_type": "code",
   "execution_count": 3,
   "metadata": {},
   "outputs": [
    {
     "data": {
      "text/html": [
       "<div>\n",
       "<style scoped>\n",
       "    .dataframe tbody tr th:only-of-type {\n",
       "        vertical-align: middle;\n",
       "    }\n",
       "\n",
       "    .dataframe tbody tr th {\n",
       "        vertical-align: top;\n",
       "    }\n",
       "\n",
       "    .dataframe thead th {\n",
       "        text-align: right;\n",
       "    }\n",
       "</style>\n",
       "<table border=\"1\" class=\"dataframe\">\n",
       "  <thead>\n",
       "    <tr style=\"text-align: right;\">\n",
       "      <th></th>\n",
       "      <th>FISCAL YEAR</th>\n",
       "      <th>SENTENCE ID</th>\n",
       "      <th>OFFENDER NUMBER</th>\n",
       "      <th>RACE</th>\n",
       "      <th>RACE GROUPING</th>\n",
       "      <th>GENDER</th>\n",
       "      <th>AGE</th>\n",
       "      <th>IN CUSTODY/COMMUNITY</th>\n",
       "      <th>SUPERVISION TYPE</th>\n",
       "      <th>JURISDICTION</th>\n",
       "      <th>SENTENCE TYPE</th>\n",
       "      <th>AGGREGATE SENTENCE LENGTH</th>\n",
       "      <th>INSTITUTIONAL SECURITY LEVEL</th>\n",
       "      <th>PROVINCE</th>\n",
       "      <th>LOCATION TYPE</th>\n",
       "      <th>OFFENDER SECURITY LEVEL</th>\n",
       "      <th>DYNAMIC/NEED</th>\n",
       "      <th>STATIC/RISK</th>\n",
       "      <th>REINTEGRATION POTENTIAL</th>\n",
       "      <th>MOTIVATION</th>\n",
       "      <th>RELIGION</th>\n",
       "      <th>WARRANT ID</th>\n",
       "      <th>COURT</th>\n",
       "      <th>OFFENCE ID</th>\n",
       "      <th>OFFENCE DESCRIPTION</th>\n",
       "      <th>RACIAL CATEGORY</th>\n",
       "      <th>SENTENCE LENGTH (YEARS)</th>\n",
       "    </tr>\n",
       "  </thead>\n",
       "  <tbody>\n",
       "    <tr>\n",
       "      <th>0</th>\n",
       "      <td>11-12</td>\n",
       "      <td>U40A00014615</td>\n",
       "      <td>82.50710</td>\n",
       "      <td>White</td>\n",
       "      <td>Non Indigenous</td>\n",
       "      <td>MALE</td>\n",
       "      <td>23</td>\n",
       "      <td>In Custody</td>\n",
       "      <td>NaN</td>\n",
       "      <td>FEDERAL</td>\n",
       "      <td>DETERMINATE</td>\n",
       "      <td>1096.0</td>\n",
       "      <td>MINIMUM</td>\n",
       "      <td>ONTARIO</td>\n",
       "      <td>FEDERAL INSTITU</td>\n",
       "      <td>MINIMUM</td>\n",
       "      <td>MEDIUM</td>\n",
       "      <td>LOW</td>\n",
       "      <td>HIGH</td>\n",
       "      <td>HIGH</td>\n",
       "      <td>CHRI NON SPEC</td>\n",
       "      <td>U40A00081680</td>\n",
       "      <td>ONT COURT OF JUSTICE</td>\n",
       "      <td>U40A00073751</td>\n",
       "      <td>POSS PROH/RESTR F/ARM W/AMMUN</td>\n",
       "      <td>White</td>\n",
       "      <td>3.00</td>\n",
       "    </tr>\n",
       "    <tr>\n",
       "      <th>1</th>\n",
       "      <td>11-12</td>\n",
       "      <td>U40A00014615</td>\n",
       "      <td>82.50710</td>\n",
       "      <td>White</td>\n",
       "      <td>Non Indigenous</td>\n",
       "      <td>MALE</td>\n",
       "      <td>23</td>\n",
       "      <td>In Custody</td>\n",
       "      <td>NaN</td>\n",
       "      <td>FEDERAL</td>\n",
       "      <td>DETERMINATE</td>\n",
       "      <td>1096.0</td>\n",
       "      <td>MINIMUM</td>\n",
       "      <td>ONTARIO</td>\n",
       "      <td>FEDERAL INSTITU</td>\n",
       "      <td>MINIMUM</td>\n",
       "      <td>MEDIUM</td>\n",
       "      <td>LOW</td>\n",
       "      <td>HIGH</td>\n",
       "      <td>HIGH</td>\n",
       "      <td>CHRI NON SPEC</td>\n",
       "      <td>U40A00081680</td>\n",
       "      <td>ONT COURT OF JUSTICE</td>\n",
       "      <td>U40A00073752</td>\n",
       "      <td>FAIL TO COMPLY W/ PROBATION ORDER</td>\n",
       "      <td>White</td>\n",
       "      <td>3.00</td>\n",
       "    </tr>\n",
       "    <tr>\n",
       "      <th>2</th>\n",
       "      <td>11-12</td>\n",
       "      <td>U40A00014615</td>\n",
       "      <td>82.50710</td>\n",
       "      <td>White</td>\n",
       "      <td>Non Indigenous</td>\n",
       "      <td>MALE</td>\n",
       "      <td>23</td>\n",
       "      <td>In Custody</td>\n",
       "      <td>NaN</td>\n",
       "      <td>FEDERAL</td>\n",
       "      <td>DETERMINATE</td>\n",
       "      <td>1096.0</td>\n",
       "      <td>MINIMUM</td>\n",
       "      <td>ONTARIO</td>\n",
       "      <td>FEDERAL INSTITU</td>\n",
       "      <td>MINIMUM</td>\n",
       "      <td>MEDIUM</td>\n",
       "      <td>LOW</td>\n",
       "      <td>HIGH</td>\n",
       "      <td>HIGH</td>\n",
       "      <td>CHRI NON SPEC</td>\n",
       "      <td>U40A00081680</td>\n",
       "      <td>ONT COURT OF JUSTICE</td>\n",
       "      <td>U40A00073753</td>\n",
       "      <td>POSS SCHEDULE I/II SUBST FOR PURP TRAFF</td>\n",
       "      <td>White</td>\n",
       "      <td>3.00</td>\n",
       "    </tr>\n",
       "    <tr>\n",
       "      <th>3</th>\n",
       "      <td>11-12</td>\n",
       "      <td>U80A00008369</td>\n",
       "      <td>104.76347</td>\n",
       "      <td>White</td>\n",
       "      <td>Non Indigenous</td>\n",
       "      <td>MALE</td>\n",
       "      <td>39</td>\n",
       "      <td>In Custody</td>\n",
       "      <td>NaN</td>\n",
       "      <td>FEDERAL</td>\n",
       "      <td>DETERMINATE</td>\n",
       "      <td>732.0</td>\n",
       "      <td>MEDIUM</td>\n",
       "      <td>BRITISH COLUMBI</td>\n",
       "      <td>FEDERAL INSTITU</td>\n",
       "      <td>MEDIUM</td>\n",
       "      <td>HIGH</td>\n",
       "      <td>HIGH</td>\n",
       "      <td>LOW</td>\n",
       "      <td>MEDIUM</td>\n",
       "      <td>NONE</td>\n",
       "      <td>U80A00048789</td>\n",
       "      <td>VANCOUVER PROVINCIAL COURT</td>\n",
       "      <td>U80A00029774</td>\n",
       "      <td>ASSAULT - USE OF FORCE</td>\n",
       "      <td>White</td>\n",
       "      <td>2.01</td>\n",
       "    </tr>\n",
       "    <tr>\n",
       "      <th>4</th>\n",
       "      <td>11-12</td>\n",
       "      <td>U80A00008369</td>\n",
       "      <td>104.76347</td>\n",
       "      <td>White</td>\n",
       "      <td>Non Indigenous</td>\n",
       "      <td>MALE</td>\n",
       "      <td>39</td>\n",
       "      <td>In Custody</td>\n",
       "      <td>NaN</td>\n",
       "      <td>FEDERAL</td>\n",
       "      <td>DETERMINATE</td>\n",
       "      <td>732.0</td>\n",
       "      <td>MEDIUM</td>\n",
       "      <td>BRITISH COLUMBI</td>\n",
       "      <td>FEDERAL INSTITU</td>\n",
       "      <td>MEDIUM</td>\n",
       "      <td>HIGH</td>\n",
       "      <td>HIGH</td>\n",
       "      <td>LOW</td>\n",
       "      <td>MEDIUM</td>\n",
       "      <td>NONE</td>\n",
       "      <td>U80A00048789</td>\n",
       "      <td>VANCOUVER PROVINCIAL COURT</td>\n",
       "      <td>U80A00029785</td>\n",
       "      <td>ROBBERY - ALL OTHERS</td>\n",
       "      <td>White</td>\n",
       "      <td>2.01</td>\n",
       "    </tr>\n",
       "  </tbody>\n",
       "</table>\n",
       "</div>"
      ],
      "text/plain": [
       "  FISCAL YEAR   SENTENCE ID  OFFENDER NUMBER   RACE   RACE GROUPING GENDER  \\\n",
       "0       11-12  U40A00014615         82.50710  White  Non Indigenous   MALE   \n",
       "1       11-12  U40A00014615         82.50710  White  Non Indigenous   MALE   \n",
       "2       11-12  U40A00014615         82.50710  White  Non Indigenous   MALE   \n",
       "3       11-12  U80A00008369        104.76347  White  Non Indigenous   MALE   \n",
       "4       11-12  U80A00008369        104.76347  White  Non Indigenous   MALE   \n",
       "\n",
       "   AGE IN CUSTODY/COMMUNITY SUPERVISION TYPE JURISDICTION SENTENCE TYPE  \\\n",
       "0   23           In Custody              NaN      FEDERAL   DETERMINATE   \n",
       "1   23           In Custody              NaN      FEDERAL   DETERMINATE   \n",
       "2   23           In Custody              NaN      FEDERAL   DETERMINATE   \n",
       "3   39           In Custody              NaN      FEDERAL   DETERMINATE   \n",
       "4   39           In Custody              NaN      FEDERAL   DETERMINATE   \n",
       "\n",
       "   AGGREGATE SENTENCE LENGTH INSTITUTIONAL SECURITY LEVEL         PROVINCE  \\\n",
       "0                     1096.0                      MINIMUM          ONTARIO   \n",
       "1                     1096.0                      MINIMUM          ONTARIO   \n",
       "2                     1096.0                      MINIMUM          ONTARIO   \n",
       "3                      732.0                       MEDIUM  BRITISH COLUMBI   \n",
       "4                      732.0                       MEDIUM  BRITISH COLUMBI   \n",
       "\n",
       "     LOCATION TYPE OFFENDER SECURITY LEVEL DYNAMIC/NEED STATIC/RISK  \\\n",
       "0  FEDERAL INSTITU                 MINIMUM       MEDIUM         LOW   \n",
       "1  FEDERAL INSTITU                 MINIMUM       MEDIUM         LOW   \n",
       "2  FEDERAL INSTITU                 MINIMUM       MEDIUM         LOW   \n",
       "3  FEDERAL INSTITU                  MEDIUM         HIGH        HIGH   \n",
       "4  FEDERAL INSTITU                  MEDIUM         HIGH        HIGH   \n",
       "\n",
       "  REINTEGRATION POTENTIAL MOTIVATION       RELIGION    WARRANT ID  \\\n",
       "0                    HIGH       HIGH  CHRI NON SPEC  U40A00081680   \n",
       "1                    HIGH       HIGH  CHRI NON SPEC  U40A00081680   \n",
       "2                    HIGH       HIGH  CHRI NON SPEC  U40A00081680   \n",
       "3                     LOW     MEDIUM           NONE  U80A00048789   \n",
       "4                     LOW     MEDIUM           NONE  U80A00048789   \n",
       "\n",
       "                        COURT    OFFENCE ID  \\\n",
       "0        ONT COURT OF JUSTICE  U40A00073751   \n",
       "1        ONT COURT OF JUSTICE  U40A00073752   \n",
       "2        ONT COURT OF JUSTICE  U40A00073753   \n",
       "3  VANCOUVER PROVINCIAL COURT  U80A00029774   \n",
       "4  VANCOUVER PROVINCIAL COURT  U80A00029785   \n",
       "\n",
       "                       OFFENCE DESCRIPTION RACIAL CATEGORY  \\\n",
       "0            POSS PROH/RESTR F/ARM W/AMMUN           White   \n",
       "1        FAIL TO COMPLY W/ PROBATION ORDER           White   \n",
       "2  POSS SCHEDULE I/II SUBST FOR PURP TRAFF           White   \n",
       "3                   ASSAULT - USE OF FORCE           White   \n",
       "4                     ROBBERY - ALL OTHERS           White   \n",
       "\n",
       "   SENTENCE LENGTH (YEARS)  \n",
       "0                     3.00  \n",
       "1                     3.00  \n",
       "2                     3.00  \n",
       "3                     2.01  \n",
       "4                     2.01  "
      ]
     },
     "execution_count": 3,
     "metadata": {},
     "output_type": "execute_result"
    }
   ],
   "source": [
    "df.head()"
   ]
  },
  {
   "cell_type": "markdown",
   "metadata": {},
   "source": [
    "## Visualizing Missing Data\n",
    "\n",
    "Let's get a summary of our null values, and then visualize it using the `missingno` package."
   ]
  },
  {
   "cell_type": "code",
   "execution_count": 4,
   "metadata": {},
   "outputs": [
    {
     "data": {
      "text/plain": [
       "(731785, 27)"
      ]
     },
     "execution_count": 4,
     "metadata": {},
     "output_type": "execute_result"
    }
   ],
   "source": [
    "df.shape"
   ]
  },
  {
   "cell_type": "code",
   "execution_count": 5,
   "metadata": {},
   "outputs": [
    {
     "data": {
      "text/plain": [
       "FISCAL YEAR                          0\n",
       "SENTENCE ID                          0\n",
       "OFFENDER NUMBER                      0\n",
       "RACE                                 0\n",
       "RACE GROUPING                        0\n",
       "GENDER                               0\n",
       "AGE                                  0\n",
       "IN CUSTODY/COMMUNITY                 0\n",
       "SUPERVISION TYPE                467091\n",
       "JURISDICTION                         0\n",
       "SENTENCE TYPE                        0\n",
       "AGGREGATE SENTENCE LENGTH            0\n",
       "INSTITUTIONAL SECURITY LEVEL    233677\n",
       "PROVINCE                             0\n",
       "LOCATION TYPE                        0\n",
       "OFFENDER SECURITY LEVEL          44539\n",
       "DYNAMIC/NEED                     18744\n",
       "STATIC/RISK                      18526\n",
       "REINTEGRATION POTENTIAL          19278\n",
       "MOTIVATION                       19600\n",
       "RELIGION                         42563\n",
       "WARRANT ID                           0\n",
       "COURT                            10772\n",
       "OFFENCE ID                           0\n",
       "OFFENCE DESCRIPTION                  0\n",
       "RACIAL CATEGORY                      0\n",
       "SENTENCE LENGTH (YEARS)              0\n",
       "dtype: int64"
      ]
     },
     "execution_count": 5,
     "metadata": {},
     "output_type": "execute_result"
    }
   ],
   "source": [
    "df.isnull().sum()"
   ]
  },
  {
   "cell_type": "code",
   "execution_count": 6,
   "metadata": {},
   "outputs": [
    {
     "data": {
      "image/png": "[encoded data removed]",
      "text/plain": [
       "<Figure size 1800x720 with 2 Axes>"
      ]
     },
     "metadata": {
      "needs_background": "light"
     },
     "output_type": "display_data"
    }
   ],
   "source": [
    "msno.matrix(df)\n",
    "plt.show()"
   ]
  },
  {
   "cell_type": "markdown",
   "metadata": {},
   "source": [
    "From the counts we can see that the 'supervision type' and 'instutitional security level' columns have the most NaNs, with a couple more in the 'offender security level' and 'religion' columns. Interestingly, our NaN matrix shows us that there are a couple of records that are missing data in many of our records of interest ('offender security level', 'dynamic/need', 'static/risk', 'reintegration potential', 'motivation'). \n",
    "\n",
    "Let's plot a NaN heatmap to look at the correlation in the existence of NaNs across columns."
   ]
  },
  {
   "cell_type": "code",
   "execution_count": 7,
   "metadata": {},
   "outputs": [
    {
     "data": {
      "image/png": "[encoded data removed]",
      "text/plain": [
       "<Figure size 1440x864 with 2 Axes>"
      ]
     },
     "metadata": {
      "needs_background": "light"
     },
     "output_type": "display_data"
    }
   ],
   "source": [
    "msno.heatmap(df)\n",
    "plt.show()"
   ]
  },
  {
   "cell_type": "markdown",
   "metadata": {},
   "source": [
    "We have confirmation about the correlation between missing scores of various kinds - if a score is missing in one column, it's likely to be missing in others. Additionally, we have a strong negative correlation between 'institutional security level' and 'supervision type'. This is because if an offender is supervised, they are out in the community, which means they shouldn't have an institutional security level assigned since they're not in custody. \n",
    "\n",
    "We have some NaNs in the 'court' and 'religion' columns. Let's see how many values there are in these columns. "
   ]
  },
  {
   "cell_type": "code",
   "execution_count": 8,
   "metadata": {},
   "outputs": [
    {
     "name": "stdout",
     "output_type": "stream",
     "text": [
      "241 70\n"
     ]
    }
   ],
   "source": [
    "print(df['COURT'].nunique(), df['RELIGION'].nunique())"
   ]
  },
  {
   "cell_type": "markdown",
   "metadata": {},
   "source": [
    "There are quite a number of values in both of these columns - from the EDA we've also seen that there isn't an overwhelming number of individuals practising a particular religion/ attending a particular court, so it would be difficult to impute these values. That said, it's more likely that the features around an individual's security risk, prison term, etc. are indicative of their reintegration potential than their faith or the particular court they were convicted in, so I'm not too troubled by this result. But we can include a smaller dataframe with the records that don't have NaNs in these two columns as one of our modelling options to ensure we're exploring all possibilities.\n",
    "\n",
    "After examining the structure of our NaNs, we have a good sense of next steps:\n",
    "\n",
    "* Since there's such a strong relationship between NaNs in the 'offender security level', 'dynamic/need', 'static/risk', 'reintegration potential', and 'motivation' columns, we're going to drop all records that have are NaNs for 'reintegration potential', which will take care of the majority of NaNs in the remaining columns. We've chosen this column since it's going to be our target. \n",
    "* We'll code the 'supervision type' NaNs to return the category of 'In Custody' and the institutional security level NaNs to return the category of 'Community'.\n",
    "* We'll drop the 'religion' and 'court' columns.\n",
    "* Where NaNs remain in the categorical columns, we'll impute using KNN imputer.\n",
    "\n",
    "## Dealing with NaNs \n",
    "\n",
    "Let's begin by dropping the records that have NaNs in the 'reintegration potential' column."
   ]
  },
  {
   "cell_type": "code",
   "execution_count": 9,
   "metadata": {},
   "outputs": [
    {
     "data": {
      "text/plain": [
       "(712507, 27)"
      ]
     },
     "execution_count": 9,
     "metadata": {},
     "output_type": "execute_result"
    }
   ],
   "source": [
    "df.dropna(subset = [\"REINTEGRATION POTENTIAL\"], inplace=True)\n",
    "df.shape"
   ]
  },
  {
   "cell_type": "code",
   "execution_count": 10,
   "metadata": {},
   "outputs": [
    {
     "data": {
      "text/plain": [
       "FISCAL YEAR                          0\n",
       "SENTENCE ID                          0\n",
       "OFFENDER NUMBER                      0\n",
       "RACE                                 0\n",
       "RACE GROUPING                        0\n",
       "GENDER                               0\n",
       "AGE                                  0\n",
       "IN CUSTODY/COMMUNITY                 0\n",
       "SUPERVISION TYPE                447826\n",
       "JURISDICTION                         0\n",
       "SENTENCE TYPE                        0\n",
       "AGGREGATE SENTENCE LENGTH            0\n",
       "INSTITUTIONAL SECURITY LEVEL    233664\n",
       "PROVINCE                             0\n",
       "LOCATION TYPE                        0\n",
       "OFFENDER SECURITY LEVEL          25581\n",
       "DYNAMIC/NEED                       300\n",
       "STATIC/RISK                        286\n",
       "REINTEGRATION POTENTIAL              0\n",
       "MOTIVATION                         322\n",
       "RELIGION                         40120\n",
       "WARRANT ID                           0\n",
       "COURT                            10771\n",
       "OFFENCE ID                           0\n",
       "OFFENCE DESCRIPTION                  0\n",
       "RACIAL CATEGORY                      0\n",
       "SENTENCE LENGTH (YEARS)              0\n",
       "dtype: int64"
      ]
     },
     "execution_count": 10,
     "metadata": {},
     "output_type": "execute_result"
    }
   ],
   "source": [
    "df.isnull().sum()"
   ]
  },
  {
   "cell_type": "markdown",
   "metadata": {},
   "source": [
    "Now we have significantly fewer NaNs in the other assessment columns. We'll impute these with KNN imputer down the line. Let's move on to accounting for the NaNs in 'supervision type' and 'institutional security level'. "
   ]
  },
  {
   "cell_type": "code",
   "execution_count": 11,
   "metadata": {},
   "outputs": [
    {
     "data": {
      "text/plain": [
       "FISCAL YEAR                         0\n",
       "SENTENCE ID                         0\n",
       "OFFENDER NUMBER                     0\n",
       "RACE                                0\n",
       "RACE GROUPING                       0\n",
       "GENDER                              0\n",
       "AGE                                 0\n",
       "IN CUSTODY/COMMUNITY                0\n",
       "SUPERVISION TYPE                    0\n",
       "JURISDICTION                        0\n",
       "SENTENCE TYPE                       0\n",
       "AGGREGATE SENTENCE LENGTH           0\n",
       "INSTITUTIONAL SECURITY LEVEL        0\n",
       "PROVINCE                            0\n",
       "LOCATION TYPE                       0\n",
       "OFFENDER SECURITY LEVEL         25581\n",
       "DYNAMIC/NEED                      300\n",
       "STATIC/RISK                       286\n",
       "REINTEGRATION POTENTIAL             0\n",
       "MOTIVATION                        322\n",
       "RELIGION                        40120\n",
       "WARRANT ID                          0\n",
       "COURT                           10771\n",
       "OFFENCE ID                          0\n",
       "OFFENCE DESCRIPTION                 0\n",
       "RACIAL CATEGORY                     0\n",
       "SENTENCE LENGTH (YEARS)             0\n",
       "dtype: int64"
      ]
     },
     "execution_count": 11,
     "metadata": {},
     "output_type": "execute_result"
    }
   ],
   "source": [
    "#Define function to replace supervision NaNs\n",
    "def replace_sup_nans(x):\n",
    "    if pd.isnull(x):\n",
    "        return 'In Custody'\n",
    "    else:\n",
    "        return x\n",
    "    \n",
    "#Define function to replace security level NaNs\n",
    "def replace_security_nans(x):\n",
    "    if pd.isnull(x):\n",
    "        return 'Community'\n",
    "    else:\n",
    "        return x\n",
    "\n",
    "#Map our functions on their respective columns\n",
    "df['SUPERVISION TYPE'] = df['SUPERVISION TYPE'].map(replace_sup_nans)\n",
    "df['INSTITUTIONAL SECURITY LEVEL'] = df['INSTITUTIONAL SECURITY LEVEL'].map(replace_security_nans)\n",
    "\n",
    "df.isnull().sum()"
   ]
  },
  {
   "cell_type": "markdown",
   "metadata": {},
   "source": [
    "Now we're left with the offender security level before imputing. Let's look at what this column looks like:"
   ]
  },
  {
   "cell_type": "code",
   "execution_count": 12,
   "metadata": {},
   "outputs": [
    {
     "data": {
      "text/plain": [
       "OFFENDER SECURITY LEVEL\n",
       "MAXIMUM     98703\n",
       "MEDIUM     401090\n",
       "MINIMUM    187133\n",
       "Name: OFFENDER NUMBER, dtype: int64"
      ]
     },
     "execution_count": 12,
     "metadata": {},
     "output_type": "execute_result"
    }
   ],
   "source": [
    "df.groupby('OFFENDER SECURITY LEVEL')['OFFENDER NUMBER'].count()"
   ]
  },
  {
   "cell_type": "markdown",
   "metadata": {},
   "source": [
    "It looks like the majority of individuals are in the 'Medium' classification of offender security level so our first instinct might be to assign that to our NaN values. However, from our EDA notebook we saw that 93% of offenders had the same offender security level as their institutional security level. Since we have no NaNs in that column, let's use those values to fill the NaNs for offender security level."
   ]
  },
  {
   "cell_type": "code",
   "execution_count": 13,
   "metadata": {},
   "outputs": [
    {
     "data": {
      "text/plain": [
       "FISCAL YEAR                         0\n",
       "SENTENCE ID                         0\n",
       "OFFENDER NUMBER                     0\n",
       "RACE                                0\n",
       "RACE GROUPING                       0\n",
       "GENDER                              0\n",
       "AGE                                 0\n",
       "IN CUSTODY/COMMUNITY                0\n",
       "SUPERVISION TYPE                    0\n",
       "JURISDICTION                        0\n",
       "SENTENCE TYPE                       0\n",
       "AGGREGATE SENTENCE LENGTH           0\n",
       "INSTITUTIONAL SECURITY LEVEL        0\n",
       "PROVINCE                            0\n",
       "LOCATION TYPE                       0\n",
       "OFFENDER SECURITY LEVEL             0\n",
       "DYNAMIC/NEED                      300\n",
       "STATIC/RISK                       286\n",
       "REINTEGRATION POTENTIAL             0\n",
       "MOTIVATION                        322\n",
       "RELIGION                        40120\n",
       "WARRANT ID                          0\n",
       "COURT                           10771\n",
       "OFFENCE ID                          0\n",
       "OFFENCE DESCRIPTION                 0\n",
       "RACIAL CATEGORY                     0\n",
       "SENTENCE LENGTH (YEARS)             0\n",
       "dtype: int64"
      ]
     },
     "execution_count": 13,
     "metadata": {},
     "output_type": "execute_result"
    }
   ],
   "source": [
    "df['OFFENDER SECURITY LEVEL'].fillna(df['INSTITUTIONAL SECURITY LEVEL'],inplace=True)\n",
    "df.isnull().sum()"
   ]
  },
  {
   "cell_type": "markdown",
   "metadata": {},
   "source": [
    "Finally, we will impute the couple of hundred remaining values in the 'dynamic/need', 'static/risk', and 'motivation' columns by taking the mode of the column when grouped by the reintegration potential."
   ]
  },
  {
   "cell_type": "code",
   "execution_count": 14,
   "metadata": {},
   "outputs": [
    {
     "data": {
      "text/plain": [
       "FISCAL YEAR                         0\n",
       "SENTENCE ID                         0\n",
       "OFFENDER NUMBER                     0\n",
       "RACE                                0\n",
       "RACE GROUPING                       0\n",
       "GENDER                              0\n",
       "AGE                                 0\n",
       "IN CUSTODY/COMMUNITY                0\n",
       "SUPERVISION TYPE                    0\n",
       "JURISDICTION                        0\n",
       "SENTENCE TYPE                       0\n",
       "AGGREGATE SENTENCE LENGTH           0\n",
       "INSTITUTIONAL SECURITY LEVEL        0\n",
       "PROVINCE                            0\n",
       "LOCATION TYPE                       0\n",
       "OFFENDER SECURITY LEVEL             0\n",
       "DYNAMIC/NEED                        0\n",
       "STATIC/RISK                         0\n",
       "REINTEGRATION POTENTIAL             0\n",
       "MOTIVATION                          0\n",
       "RELIGION                        40120\n",
       "WARRANT ID                          0\n",
       "COURT                           10771\n",
       "OFFENCE ID                          0\n",
       "OFFENCE DESCRIPTION                 0\n",
       "RACIAL CATEGORY                     0\n",
       "SENTENCE LENGTH (YEARS)             0\n",
       "dtype: int64"
      ]
     },
     "execution_count": 14,
     "metadata": {},
     "output_type": "execute_result"
    }
   ],
   "source": [
    "df['STATIC/RISK'] = df.groupby(['OFFENDER SECURITY LEVEL','REINTEGRATION POTENTIAL'], sort=False)['STATIC/RISK'].apply(lambda x: x.fillna(x.mode().iloc[0]))\n",
    "df['DYNAMIC/NEED'] = df.groupby(['OFFENDER SECURITY LEVEL','REINTEGRATION POTENTIAL'], sort=False)['DYNAMIC/NEED'].apply(lambda x: x.fillna(x.mode().iloc[0]))\n",
    "df['MOTIVATION'] = df.groupby(['OFFENDER SECURITY LEVEL','REINTEGRATION POTENTIAL'], sort=False)['MOTIVATION'].apply(lambda x: x.fillna(x.mode().iloc[0]))\n",
    "\n",
    "df.isnull().sum()"
   ]
  },
  {
   "cell_type": "markdown",
   "metadata": {},
   "source": [
    "Now we only have NaNs in our 'religion' and 'court' columns. \n",
    "\n",
    "## Feature Engineering \n",
    "\n",
    "In this section of the exploration we will:\n",
    "\n",
    "* Bin our numeric features (Age, Sentence Length).\n",
    "* Condense our offence descriptions.\n",
    "* Condense the number of racial categories. \n",
    "\n",
    "We'll be using adaptive binning for our age and sentence length columns. This way we can avoid having overly sparse or packed bins, which would happen if we were manually binning. The adaptive binning technique that's used below is quantile based binning, using 20% quantiles throughout. "
   ]
  },
  {
   "cell_type": "code",
   "execution_count": 15,
   "metadata": {},
   "outputs": [
    {
     "data": {
      "text/html": [
       "<div>\n",
       "<style scoped>\n",
       "    .dataframe tbody tr th:only-of-type {\n",
       "        vertical-align: middle;\n",
       "    }\n",
       "\n",
       "    .dataframe tbody tr th {\n",
       "        vertical-align: top;\n",
       "    }\n",
       "\n",
       "    .dataframe thead th {\n",
       "        text-align: right;\n",
       "    }\n",
       "</style>\n",
       "<table border=\"1\" class=\"dataframe\">\n",
       "  <thead>\n",
       "    <tr style=\"text-align: right;\">\n",
       "      <th></th>\n",
       "      <th>FISCAL YEAR</th>\n",
       "      <th>SENTENCE ID</th>\n",
       "      <th>OFFENDER NUMBER</th>\n",
       "      <th>RACE</th>\n",
       "      <th>RACE GROUPING</th>\n",
       "      <th>GENDER</th>\n",
       "      <th>AGE</th>\n",
       "      <th>IN CUSTODY/COMMUNITY</th>\n",
       "      <th>SUPERVISION TYPE</th>\n",
       "      <th>JURISDICTION</th>\n",
       "      <th>SENTENCE TYPE</th>\n",
       "      <th>AGGREGATE SENTENCE LENGTH</th>\n",
       "      <th>INSTITUTIONAL SECURITY LEVEL</th>\n",
       "      <th>PROVINCE</th>\n",
       "      <th>LOCATION TYPE</th>\n",
       "      <th>OFFENDER SECURITY LEVEL</th>\n",
       "      <th>DYNAMIC/NEED</th>\n",
       "      <th>STATIC/RISK</th>\n",
       "      <th>REINTEGRATION POTENTIAL</th>\n",
       "      <th>MOTIVATION</th>\n",
       "      <th>RELIGION</th>\n",
       "      <th>WARRANT ID</th>\n",
       "      <th>COURT</th>\n",
       "      <th>OFFENCE ID</th>\n",
       "      <th>OFFENCE DESCRIPTION</th>\n",
       "      <th>RACIAL CATEGORY</th>\n",
       "      <th>SENTENCE LENGTH (YEARS)</th>\n",
       "      <th>AGE_QRANGE</th>\n",
       "      <th>SL_QRANGE</th>\n",
       "    </tr>\n",
       "  </thead>\n",
       "  <tbody>\n",
       "    <tr>\n",
       "      <th>0</th>\n",
       "      <td>11-12</td>\n",
       "      <td>U40A00014615</td>\n",
       "      <td>82.50710</td>\n",
       "      <td>White</td>\n",
       "      <td>Non Indigenous</td>\n",
       "      <td>MALE</td>\n",
       "      <td>23</td>\n",
       "      <td>In Custody</td>\n",
       "      <td>In Custody</td>\n",
       "      <td>FEDERAL</td>\n",
       "      <td>DETERMINATE</td>\n",
       "      <td>1096.0</td>\n",
       "      <td>MINIMUM</td>\n",
       "      <td>ONTARIO</td>\n",
       "      <td>FEDERAL INSTITU</td>\n",
       "      <td>MINIMUM</td>\n",
       "      <td>MEDIUM</td>\n",
       "      <td>LOW</td>\n",
       "      <td>HIGH</td>\n",
       "      <td>HIGH</td>\n",
       "      <td>CHRI NON SPEC</td>\n",
       "      <td>U40A00081680</td>\n",
       "      <td>ONT COURT OF JUSTICE</td>\n",
       "      <td>U40A00073751</td>\n",
       "      <td>POSS PROH/RESTR F/ARM W/AMMUN</td>\n",
       "      <td>White</td>\n",
       "      <td>3.00</td>\n",
       "      <td>0-20Q</td>\n",
       "      <td>20-40Q</td>\n",
       "    </tr>\n",
       "    <tr>\n",
       "      <th>1</th>\n",
       "      <td>11-12</td>\n",
       "      <td>U40A00014615</td>\n",
       "      <td>82.50710</td>\n",
       "      <td>White</td>\n",
       "      <td>Non Indigenous</td>\n",
       "      <td>MALE</td>\n",
       "      <td>23</td>\n",
       "      <td>In Custody</td>\n",
       "      <td>In Custody</td>\n",
       "      <td>FEDERAL</td>\n",
       "      <td>DETERMINATE</td>\n",
       "      <td>1096.0</td>\n",
       "      <td>MINIMUM</td>\n",
       "      <td>ONTARIO</td>\n",
       "      <td>FEDERAL INSTITU</td>\n",
       "      <td>MINIMUM</td>\n",
       "      <td>MEDIUM</td>\n",
       "      <td>LOW</td>\n",
       "      <td>HIGH</td>\n",
       "      <td>HIGH</td>\n",
       "      <td>CHRI NON SPEC</td>\n",
       "      <td>U40A00081680</td>\n",
       "      <td>ONT COURT OF JUSTICE</td>\n",
       "      <td>U40A00073752</td>\n",
       "      <td>FAIL TO COMPLY W/ PROBATION ORDER</td>\n",
       "      <td>White</td>\n",
       "      <td>3.00</td>\n",
       "      <td>0-20Q</td>\n",
       "      <td>20-40Q</td>\n",
       "    </tr>\n",
       "    <tr>\n",
       "      <th>2</th>\n",
       "      <td>11-12</td>\n",
       "      <td>U40A00014615</td>\n",
       "      <td>82.50710</td>\n",
       "      <td>White</td>\n",
       "      <td>Non Indigenous</td>\n",
       "      <td>MALE</td>\n",
       "      <td>23</td>\n",
       "      <td>In Custody</td>\n",
       "      <td>In Custody</td>\n",
       "      <td>FEDERAL</td>\n",
       "      <td>DETERMINATE</td>\n",
       "      <td>1096.0</td>\n",
       "      <td>MINIMUM</td>\n",
       "      <td>ONTARIO</td>\n",
       "      <td>FEDERAL INSTITU</td>\n",
       "      <td>MINIMUM</td>\n",
       "      <td>MEDIUM</td>\n",
       "      <td>LOW</td>\n",
       "      <td>HIGH</td>\n",
       "      <td>HIGH</td>\n",
       "      <td>CHRI NON SPEC</td>\n",
       "      <td>U40A00081680</td>\n",
       "      <td>ONT COURT OF JUSTICE</td>\n",
       "      <td>U40A00073753</td>\n",
       "      <td>POSS SCHEDULE I/II SUBST FOR PURP TRAFF</td>\n",
       "      <td>White</td>\n",
       "      <td>3.00</td>\n",
       "      <td>0-20Q</td>\n",
       "      <td>20-40Q</td>\n",
       "    </tr>\n",
       "    <tr>\n",
       "      <th>3</th>\n",
       "      <td>11-12</td>\n",
       "      <td>U80A00008369</td>\n",
       "      <td>104.76347</td>\n",
       "      <td>White</td>\n",
       "      <td>Non Indigenous</td>\n",
       "      <td>MALE</td>\n",
       "      <td>39</td>\n",
       "      <td>In Custody</td>\n",
       "      <td>In Custody</td>\n",
       "      <td>FEDERAL</td>\n",
       "      <td>DETERMINATE</td>\n",
       "      <td>732.0</td>\n",
       "      <td>MEDIUM</td>\n",
       "      <td>BRITISH COLUMBI</td>\n",
       "      <td>FEDERAL INSTITU</td>\n",
       "      <td>MEDIUM</td>\n",
       "      <td>HIGH</td>\n",
       "      <td>HIGH</td>\n",
       "      <td>LOW</td>\n",
       "      <td>MEDIUM</td>\n",
       "      <td>NONE</td>\n",
       "      <td>U80A00048789</td>\n",
       "      <td>VANCOUVER PROVINCIAL COURT</td>\n",
       "      <td>U80A00029774</td>\n",
       "      <td>ASSAULT - USE OF FORCE</td>\n",
       "      <td>White</td>\n",
       "      <td>2.01</td>\n",
       "      <td>40-60Q</td>\n",
       "      <td>20-40Q</td>\n",
       "    </tr>\n",
       "    <tr>\n",
       "      <th>4</th>\n",
       "      <td>11-12</td>\n",
       "      <td>U80A00008369</td>\n",
       "      <td>104.76347</td>\n",
       "      <td>White</td>\n",
       "      <td>Non Indigenous</td>\n",
       "      <td>MALE</td>\n",
       "      <td>39</td>\n",
       "      <td>In Custody</td>\n",
       "      <td>In Custody</td>\n",
       "      <td>FEDERAL</td>\n",
       "      <td>DETERMINATE</td>\n",
       "      <td>732.0</td>\n",
       "      <td>MEDIUM</td>\n",
       "      <td>BRITISH COLUMBI</td>\n",
       "      <td>FEDERAL INSTITU</td>\n",
       "      <td>MEDIUM</td>\n",
       "      <td>HIGH</td>\n",
       "      <td>HIGH</td>\n",
       "      <td>LOW</td>\n",
       "      <td>MEDIUM</td>\n",
       "      <td>NONE</td>\n",
       "      <td>U80A00048789</td>\n",
       "      <td>VANCOUVER PROVINCIAL COURT</td>\n",
       "      <td>U80A00029785</td>\n",
       "      <td>ROBBERY - ALL OTHERS</td>\n",
       "      <td>White</td>\n",
       "      <td>2.01</td>\n",
       "      <td>40-60Q</td>\n",
       "      <td>20-40Q</td>\n",
       "    </tr>\n",
       "  </tbody>\n",
       "</table>\n",
       "</div>"
      ],
      "text/plain": [
       "  FISCAL YEAR   SENTENCE ID  OFFENDER NUMBER   RACE   RACE GROUPING GENDER  \\\n",
       "0       11-12  U40A00014615         82.50710  White  Non Indigenous   MALE   \n",
       "1       11-12  U40A00014615         82.50710  White  Non Indigenous   MALE   \n",
       "2       11-12  U40A00014615         82.50710  White  Non Indigenous   MALE   \n",
       "3       11-12  U80A00008369        104.76347  White  Non Indigenous   MALE   \n",
       "4       11-12  U80A00008369        104.76347  White  Non Indigenous   MALE   \n",
       "\n",
       "   AGE IN CUSTODY/COMMUNITY SUPERVISION TYPE JURISDICTION SENTENCE TYPE  \\\n",
       "0   23           In Custody       In Custody      FEDERAL   DETERMINATE   \n",
       "1   23           In Custody       In Custody      FEDERAL   DETERMINATE   \n",
       "2   23           In Custody       In Custody      FEDERAL   DETERMINATE   \n",
       "3   39           In Custody       In Custody      FEDERAL   DETERMINATE   \n",
       "4   39           In Custody       In Custody      FEDERAL   DETERMINATE   \n",
       "\n",
       "   AGGREGATE SENTENCE LENGTH INSTITUTIONAL SECURITY LEVEL         PROVINCE  \\\n",
       "0                     1096.0                      MINIMUM          ONTARIO   \n",
       "1                     1096.0                      MINIMUM          ONTARIO   \n",
       "2                     1096.0                      MINIMUM          ONTARIO   \n",
       "3                      732.0                       MEDIUM  BRITISH COLUMBI   \n",
       "4                      732.0                       MEDIUM  BRITISH COLUMBI   \n",
       "\n",
       "     LOCATION TYPE OFFENDER SECURITY LEVEL DYNAMIC/NEED STATIC/RISK  \\\n",
       "0  FEDERAL INSTITU                 MINIMUM       MEDIUM         LOW   \n",
       "1  FEDERAL INSTITU                 MINIMUM       MEDIUM         LOW   \n",
       "2  FEDERAL INSTITU                 MINIMUM       MEDIUM         LOW   \n",
       "3  FEDERAL INSTITU                  MEDIUM         HIGH        HIGH   \n",
       "4  FEDERAL INSTITU                  MEDIUM         HIGH        HIGH   \n",
       "\n",
       "  REINTEGRATION POTENTIAL MOTIVATION       RELIGION    WARRANT ID  \\\n",
       "0                    HIGH       HIGH  CHRI NON SPEC  U40A00081680   \n",
       "1                    HIGH       HIGH  CHRI NON SPEC  U40A00081680   \n",
       "2                    HIGH       HIGH  CHRI NON SPEC  U40A00081680   \n",
       "3                     LOW     MEDIUM           NONE  U80A00048789   \n",
       "4                     LOW     MEDIUM           NONE  U80A00048789   \n",
       "\n",
       "                        COURT    OFFENCE ID  \\\n",
       "0        ONT COURT OF JUSTICE  U40A00073751   \n",
       "1        ONT COURT OF JUSTICE  U40A00073752   \n",
       "2        ONT COURT OF JUSTICE  U40A00073753   \n",
       "3  VANCOUVER PROVINCIAL COURT  U80A00029774   \n",
       "4  VANCOUVER PROVINCIAL COURT  U80A00029785   \n",
       "\n",
       "                       OFFENCE DESCRIPTION RACIAL CATEGORY  \\\n",
       "0            POSS PROH/RESTR F/ARM W/AMMUN           White   \n",
       "1        FAIL TO COMPLY W/ PROBATION ORDER           White   \n",
       "2  POSS SCHEDULE I/II SUBST FOR PURP TRAFF           White   \n",
       "3                   ASSAULT - USE OF FORCE           White   \n",
       "4                     ROBBERY - ALL OTHERS           White   \n",
       "\n",
       "   SENTENCE LENGTH (YEARS) AGE_QRANGE SL_QRANGE  \n",
       "0                     3.00      0-20Q    20-40Q  \n",
       "1                     3.00      0-20Q    20-40Q  \n",
       "2                     3.00      0-20Q    20-40Q  \n",
       "3                     2.01     40-60Q    20-40Q  \n",
       "4                     2.01     40-60Q    20-40Q  "
      ]
     },
     "execution_count": 15,
     "metadata": {},
     "output_type": "execute_result"
    }
   ],
   "source": [
    "#Get list of quantiles\n",
    "quantile_list = [0, .2, .4, .6, .8, 1.]\n",
    "\n",
    "#Labels for our values\n",
    "quantile_labels = ['0-20Q', '20-40Q', '40-60Q', '60-80Q', '80-100Q']\n",
    "\n",
    "#Create new columns with quantile cuts\n",
    "df['AGE_QRANGE'] = pd.qcut(df['AGE'], q=quantile_list, labels=quantile_labels)\n",
    "df['SL_QRANGE'] = pd.qcut(df['SENTENCE LENGTH (YEARS)'], q=quantile_list, labels=quantile_labels)\n",
    "\n",
    "df.head()"
   ]
  },
  {
   "cell_type": "markdown",
   "metadata": {},
   "source": [
    "Now that we've dealt with binning the continuous numeric variables, we can move onto the categorical variables. Let's start by condensing our 'racial category' column from 10 unique values to 4 (grouping as 'White', 'Indigenous', 'Black', and 'Other'). We will then look at the top offence descriptions and keep the unique values that account for the majority of our offenders."
   ]
  },
  {
   "cell_type": "code",
   "execution_count": 16,
   "metadata": {},
   "outputs": [
    {
     "data": {
      "text/plain": [
       "array(['White', 'Indigenous', 'Other', 'Black'], dtype=object)"
      ]
     },
     "execution_count": 16,
     "metadata": {},
     "output_type": "execute_result"
    }
   ],
   "source": [
    "#Define a dict to map races to 'other' category\n",
    "race_cat = {('Middle Eastern/ West Asian','East Asian','South Asian','Hispanic', 'Oceania', 'Multi-Ethic'):'Other'}\n",
    "\n",
    "race_dict = {}\n",
    "for k, v in race_cat.items():\n",
    "    for key in k:\n",
    "        race_dict[key] = v\n",
    "        \n",
    "race_dict['Other'] = 'Other'\n",
    "race_dict['White'] = 'White'\n",
    "race_dict['Black'] = 'Black'\n",
    "race_dict['Indigenous'] = 'Indigenous'\n",
    "\n",
    "#Map dict to current 'racial category' column\n",
    "df['RACIAL CATEGORY'] = df['RACIAL CATEGORY'].map(race_dict)\n",
    "\n",
    "#Look at unique values - should be 4\n",
    "df['RACIAL CATEGORY'].unique()"
   ]
  },
  {
   "cell_type": "markdown",
   "metadata": {},
   "source": [
    "Let's now get a sense of how many unique offence descriptions we have."
   ]
  },
  {
   "cell_type": "code",
   "execution_count": 17,
   "metadata": {},
   "outputs": [
    {
     "data": {
      "text/plain": [
       "738"
      ]
     },
     "execution_count": 17,
     "metadata": {},
     "output_type": "execute_result"
    }
   ],
   "source": [
    "df['OFFENCE DESCRIPTION'].nunique()"
   ]
  },
  {
   "cell_type": "markdown",
   "metadata": {},
   "source": [
    "Quite a bit - that would be computationally expensive to encode into dummies, and might make our models inefficient. Let's see how many records are accounted for if we take the top 100 offence descriptions."
   ]
  },
  {
   "cell_type": "code",
   "execution_count": 18,
   "metadata": {},
   "outputs": [
    {
     "data": {
      "text/plain": [
       "622645"
      ]
     },
     "execution_count": 18,
     "metadata": {},
     "output_type": "execute_result"
    }
   ],
   "source": [
    "top_desc = df.groupby('OFFENCE DESCRIPTION')['OFFENCE ID'].count().sort_values(ascending=False)[:100]\n",
    "bottom_desc = df.groupby('OFFENCE DESCRIPTION')['OFFENCE ID'].count().sort_values(ascending=False)[100:]\n",
    "top_desc.sum()"
   ]
  },
  {
   "cell_type": "markdown",
   "metadata": {},
   "source": [
    "The top 100 offence descriptions account for 87% of our records - let's keep these and encode the rest of the offence descriptions as 'other'."
   ]
  },
  {
   "cell_type": "code",
   "execution_count": 19,
   "metadata": {},
   "outputs": [
    {
     "data": {
      "text/plain": [
       "101"
      ]
     },
     "execution_count": 19,
     "metadata": {},
     "output_type": "execute_result"
    }
   ],
   "source": [
    "#Turn our groupby object into a list \n",
    "not_list_desc = bottom_desc.index.tolist()\n",
    "\n",
    "#Map all descriptions in the list to the 'other' category\n",
    "off_desc = {tuple(not_list_desc):'Other'}\n",
    "\n",
    "off_dict = {}\n",
    "for k, v in off_desc.items():\n",
    "    for key in k:\n",
    "        off_dict[key] = v\n",
    "\n",
    "#Create a condensed offence description column mapped to our 'other' description, then fill the NaNs with their original values \n",
    "df['CONDENSED OFFENCE DESCRIPTION'] = df['OFFENCE DESCRIPTION'].map(off_dict)\n",
    "df['CONDENSED OFFENCE DESCRIPTION'].fillna(df['OFFENCE DESCRIPTION'],inplace=True)\n",
    "\n",
    "#Show that we have 101 descrptions - our 100 top counts plus 1 for 'other'\n",
    "df['CONDENSED OFFENCE DESCRIPTION'].nunique()"
   ]
  },
  {
   "cell_type": "markdown",
   "metadata": {},
   "source": [
    "Finally, let's change our 'year' field to something more readable:"
   ]
  },
  {
   "cell_type": "code",
   "execution_count": 20,
   "metadata": {},
   "outputs": [],
   "source": [
    "df['YEAR'] = df['FISCAL YEAR'].apply(lambda x: '20' + x[-2:])"
   ]
  },
  {
   "cell_type": "markdown",
   "metadata": {},
   "source": [
    "Now that we've dealt with NaNs and finished up our feature engineering, let's move on to encoding our features. \n",
    "\n",
    "## Encoding \n",
    "\n",
    "Before we encode, we'll filter our records and drop some columns that aren't going to be used in the exploration. We will filter for:\n",
    "\n",
    "* Male offenders\n",
    "* Federal offenders \n",
    "\n",
    "We will then drop the following columns:\n",
    "\n",
    "* Gender\n",
    "* Jurisdiction\n",
    "* Sentence ID\n",
    "* Offence ID \n",
    "* Race \n",
    "* Race grouping \n",
    "* Sentence type \n",
    "* Aggregate sentence length\n",
    "* Province\n",
    "* Religion\n",
    "* Warrant ID\n",
    "* Court\n",
    "* Offence ID\n",
    "* Sentence length (years)\n",
    "\n",
    "We'll make the following adjustments to our variables:\n",
    "\n",
    "* Ordinal encode 'institutional security level', 'offender security level', 'dynamic/need', 'static/risk', 'reintegration potential', and 'motivation'.\n",
    "* One Hot encode 'racial category', 'age qrange', 'sentence length qrange', 'in custody/community', 'supervision type', and 'condensed offence description'.\n",
    "\n",
    "Let's filter our records:"
   ]
  },
  {
   "cell_type": "code",
   "execution_count": 24,
   "metadata": {},
   "outputs": [],
   "source": [
    "#Filter for only male records \n",
    "df = df[df['GENDER']=='MALE'].reset_index(drop=True)\n",
    "\n",
    "#Filter for only federal offenders\n",
    "df = df[df['JURISDICTION']=='FEDERAL'].reset_index(drop=True)"
   ]
  },
  {
   "cell_type": "markdown",
   "metadata": {},
   "source": [
    "Now let's condense our dataframe to only relevant columns"
   ]
  },
  {
   "cell_type": "code",
   "execution_count": null,
   "metadata": {},
   "outputs": [],
   "source": []
  },
  {
   "cell_type": "markdown",
   "metadata": {},
   "source": [
    "## Reshaping DataFrame \n",
    "\n",
    "Recall that our goal is to be able to predict the 'reintegration potential' score that an offender receives. Since these scores are calculated annually, we want to ensure that each row of our dataframe represents a snapshot of an offender in each year we have data. "
   ]
  },
  {
   "cell_type": "markdown",
   "metadata": {},
   "source": [
    "## Options for Data Modelling \n",
    "\n",
    "Find groupings of features to try in our modelling.\n"
   ]
  },
  {
   "cell_type": "markdown",
   "metadata": {},
   "source": [
    "## Conclusion\n",
    "\n",
    "Examine and visualize missing data.\n",
    "Determine where it's appropriate to drop records, and the right way to impute missing values for remaining records.\n",
    "Bin some of our numeric features.\n",
    "Condense our offence descriptions.\n",
    "Reshape dataframe so that each record is an inmate in a particular year.\n",
    "Find groupings of features to try in our modelling."
   ]
  }
 ],
 "metadata": {
  "kernelspec": {
   "display_name": "Python 3",
   "language": "python",
   "name": "python3"
  },
  "language_info": {
   "codemirror_mode": {
    "name": "ipython",
    "version": 3
   },
   "file_extension": ".py",
   "mimetype": "text/x-python",
   "name": "python",
   "nbconvert_exporter": "python",
   "pygments_lexer": "ipython3",
   "version": "3.8.5"
  }
 },
 "nbformat": 4,
 "nbformat_minor": 4
}
