{
 "cells": [
  {
   "cell_type": "markdown",
   "metadata": {},
   "source": [
    "# Parole Models: Initial data exploration, cleaning, & processing\n",
    "\n",
    "### Willie Costello"
   ]
  },
  {
   "cell_type": "code",
   "execution_count": 1,
   "metadata": {},
   "outputs": [],
   "source": [
    "import numpy as np\n",
    "import pandas as pd"
   ]
  },
  {
   "cell_type": "markdown",
   "metadata": {},
   "source": [
    "## Importing & cleaning data"
   ]
  },
  {
   "cell_type": "code",
   "execution_count": 2,
   "metadata": {},
   "outputs": [],
   "source": [
    "df_raw = pd.read_csv('~/data/ParoleModels/data.csv')"
   ]
  },
  {
   "cell_type": "code",
   "execution_count": 3,
   "metadata": {},
   "outputs": [
    {
     "data": {
      "text/plain": [
       "(744958, 26)"
      ]
     },
     "execution_count": 3,
     "metadata": {},
     "output_type": "execute_result"
    }
   ],
   "source": [
    "df_raw.shape"
   ]
  },
  {
   "cell_type": "code",
   "execution_count": 4,
   "metadata": {},
   "outputs": [
    {
     "data": {
      "text/plain": [
       "0"
      ]
     },
     "execution_count": 4,
     "metadata": {},
     "output_type": "execute_result"
    }
   ],
   "source": [
    "# Check for duplicates\n",
    "df_raw.duplicated().sum()"
   ]
  },
  {
   "cell_type": "code",
   "execution_count": 5,
   "metadata": {},
   "outputs": [
    {
     "data": {
      "text/plain": [
       "FISCAL YEAR                     0.000000\n",
       "WARRANT ID                      0.000000\n",
       "LOCATION TYPE                   0.000000\n",
       "PROVINCE                        0.000000\n",
       "OFFENCE ID                      0.000000\n",
       "SENTENCE TYPE                   0.000000\n",
       "JURISDICTION                    0.000000\n",
       "OFFENCE DESCRIPTION             0.000000\n",
       "AGE                             0.000000\n",
       "GENDER                          0.000000\n",
       "RACE GROUPING                   0.000000\n",
       "OFFENDER NUMBER                 0.000000\n",
       "IN CUSTODY/COMMUNITY            0.000000\n",
       "SENTENCE ID                     0.000000\n",
       "AGGREGATE SENTENCE LENGTH       0.000008\n",
       "COURT                           0.014460\n",
       "RACE                            0.017673\n",
       "STATIC/RISK                     0.029078\n",
       "DYNAMIC/NEED                    0.029407\n",
       "REINTEGRATION POTENTIAL         0.030132\n",
       "MOTIVATION                      0.030594\n",
       "OFFENDER SECURITY LEVEL         0.065860\n",
       "RELIGION                        0.070193\n",
       "INSTUTUTIONAL SECURITY LEVEL    0.317110\n",
       "SUPERVISION TYPE                0.640970\n",
       "JUDGE                           1.000000\n",
       "dtype: float64"
      ]
     },
     "execution_count": 5,
     "metadata": {},
     "output_type": "execute_result"
    }
   ],
   "source": [
    "# Check for missing values\n",
    "df_raw.isna().mean().sort_values()"
   ]
  },
  {
   "cell_type": "markdown",
   "metadata": {},
   "source": [
    "`JUDGE` column is 100% missing values, so we will drop it. We will also drop `INSTUTUTIONAL SECURITY LEVEL` and `SUPERVISION TYPE`, due to their high percentage of missing values."
   ]
  },
  {
   "cell_type": "code",
   "execution_count": 6,
   "metadata": {},
   "outputs": [],
   "source": [
    "df_clean = df_raw.drop(['JUDGE', 'SUPERVISION TYPE', 'INSTUTUTIONAL SECURITY LEVEL'], axis=1)"
   ]
  },
  {
   "cell_type": "markdown",
   "metadata": {},
   "source": [
    "Following the *Globe*'s analysis, we will only consider data from offenders serving a federal sentence, as indicated in the `JURISDICTION` column."
   ]
  },
  {
   "cell_type": "code",
   "execution_count": 7,
   "metadata": {},
   "outputs": [],
   "source": [
    "df_clean = df_clean[df_clean['JURISDICTION']=='FEDERAL']\n",
    "df_clean.drop('JURISDICTION', axis=1, inplace=True)"
   ]
  },
  {
   "cell_type": "markdown",
   "metadata": {},
   "source": [
    "Let's next convert the `FISCAL YEAR` column into something more descriptive."
   ]
  },
  {
   "cell_type": "code",
   "execution_count": 8,
   "metadata": {},
   "outputs": [],
   "source": [
    "df_clean['YEAR'] = df_clean['FISCAL YEAR'].apply(lambda x: '20' + x[-2:])"
   ]
  },
  {
   "cell_type": "markdown",
   "metadata": {},
   "source": [
    "Let's now convert some of the two-category columns into binary columns."
   ]
  },
  {
   "cell_type": "code",
   "execution_count": 9,
   "metadata": {},
   "outputs": [],
   "source": [
    "df_clean['MAN'] = np.where(df_clean['GENDER']=='MALE', 1, 0)\n",
    "df_clean['INDIGENOUS'] = np.where(df_clean['RACE GROUPING']=='Indigenous', 1, 0)\n",
    "df_clean['IN_CUSTODY'] = np.where(df_clean['IN CUSTODY/COMMUNITY']=='In Custody', 1, 0)\n",
    "df_clean['DETERMINATE_SENTENCE'] = np.where(df_clean['SENTENCE TYPE']=='DETERMINATE', 1, 0)"
   ]
  },
  {
   "cell_type": "code",
   "execution_count": 10,
   "metadata": {},
   "outputs": [],
   "source": [
    "# Round Offender Number to five decimal points, to fix some datatype issues\n",
    "df_clean['OFFENDER ID'] = df_clean['OFFENDER NUMBER'].apply(lambda x: round(x, 5))"
   ]
  },
  {
   "cell_type": "code",
   "execution_count": 11,
   "metadata": {},
   "outputs": [],
   "source": [
    "# Drop converted columns\n",
    "df_clean.drop(['FISCAL YEAR', 'GENDER', 'RACE GROUPING', 'IN CUSTODY/COMMUNITY', 'SENTENCE TYPE', 'OFFENDER NUMBER'], axis=1, inplace=True)"
   ]
  },
  {
   "cell_type": "code",
   "execution_count": 12,
   "metadata": {},
   "outputs": [],
   "source": [
    "# Reformat column names\n",
    "df_clean.columns = [x.lower().replace(' ', '_') for x in df_clean.columns]"
   ]
  },
  {
   "cell_type": "code",
   "execution_count": 13,
   "metadata": {},
   "outputs": [
    {
     "data": {
      "text/plain": [
       "(741829, 22)"
      ]
     },
     "execution_count": 13,
     "metadata": {},
     "output_type": "execute_result"
    }
   ],
   "source": [
    "df_clean.shape"
   ]
  },
  {
   "cell_type": "code",
   "execution_count": 14,
   "metadata": {},
   "outputs": [
    {
     "data": {
      "text/html": [
       "<div>\n",
       "<style scoped>\n",
       "    .dataframe tbody tr th:only-of-type {\n",
       "        vertical-align: middle;\n",
       "    }\n",
       "\n",
       "    .dataframe tbody tr th {\n",
       "        vertical-align: top;\n",
       "    }\n",
       "\n",
       "    .dataframe thead th {\n",
       "        text-align: right;\n",
       "    }\n",
       "</style>\n",
       "<table border=\"1\" class=\"dataframe\">\n",
       "  <thead>\n",
       "    <tr style=\"text-align: right;\">\n",
       "      <th></th>\n",
       "      <th>sentence_id</th>\n",
       "      <th>race</th>\n",
       "      <th>age</th>\n",
       "      <th>aggregate_sentence_length</th>\n",
       "      <th>province</th>\n",
       "      <th>location_type</th>\n",
       "      <th>offender_security_level</th>\n",
       "      <th>dynamic/need</th>\n",
       "      <th>static/risk</th>\n",
       "      <th>reintegration_potential</th>\n",
       "      <th>...</th>\n",
       "      <th>warrant_id</th>\n",
       "      <th>court</th>\n",
       "      <th>offence_id</th>\n",
       "      <th>offence_description</th>\n",
       "      <th>year</th>\n",
       "      <th>man</th>\n",
       "      <th>indigenous</th>\n",
       "      <th>in_custody</th>\n",
       "      <th>determinate_sentence</th>\n",
       "      <th>offender_id</th>\n",
       "    </tr>\n",
       "  </thead>\n",
       "  <tbody>\n",
       "    <tr>\n",
       "      <th>0</th>\n",
       "      <td>U40A00014615</td>\n",
       "      <td>White</td>\n",
       "      <td>23</td>\n",
       "      <td>1096.0</td>\n",
       "      <td>ONTARIO</td>\n",
       "      <td>FEDERAL INSTITU</td>\n",
       "      <td>MINIMUM</td>\n",
       "      <td>MEDIUM</td>\n",
       "      <td>LOW</td>\n",
       "      <td>HIGH</td>\n",
       "      <td>...</td>\n",
       "      <td>U40A00081680</td>\n",
       "      <td>ONT COURT OF JUSTICE</td>\n",
       "      <td>U40A00073751</td>\n",
       "      <td>POSS PROH/RESTR F/ARM W/AMMUN</td>\n",
       "      <td>2012</td>\n",
       "      <td>1</td>\n",
       "      <td>0</td>\n",
       "      <td>1</td>\n",
       "      <td>1</td>\n",
       "      <td>82.50710</td>\n",
       "    </tr>\n",
       "    <tr>\n",
       "      <th>1</th>\n",
       "      <td>U40A00014615</td>\n",
       "      <td>White</td>\n",
       "      <td>23</td>\n",
       "      <td>1096.0</td>\n",
       "      <td>ONTARIO</td>\n",
       "      <td>FEDERAL INSTITU</td>\n",
       "      <td>MINIMUM</td>\n",
       "      <td>MEDIUM</td>\n",
       "      <td>LOW</td>\n",
       "      <td>HIGH</td>\n",
       "      <td>...</td>\n",
       "      <td>U40A00081680</td>\n",
       "      <td>ONT COURT OF JUSTICE</td>\n",
       "      <td>U40A00073752</td>\n",
       "      <td>FAIL TO COMPLY W/ PROBATION ORDER</td>\n",
       "      <td>2012</td>\n",
       "      <td>1</td>\n",
       "      <td>0</td>\n",
       "      <td>1</td>\n",
       "      <td>1</td>\n",
       "      <td>82.50710</td>\n",
       "    </tr>\n",
       "    <tr>\n",
       "      <th>2</th>\n",
       "      <td>U40A00014615</td>\n",
       "      <td>White</td>\n",
       "      <td>23</td>\n",
       "      <td>1096.0</td>\n",
       "      <td>ONTARIO</td>\n",
       "      <td>FEDERAL INSTITU</td>\n",
       "      <td>MINIMUM</td>\n",
       "      <td>MEDIUM</td>\n",
       "      <td>LOW</td>\n",
       "      <td>HIGH</td>\n",
       "      <td>...</td>\n",
       "      <td>U40A00081680</td>\n",
       "      <td>ONT COURT OF JUSTICE</td>\n",
       "      <td>U40A00073753</td>\n",
       "      <td>POSS SCHEDULE I/II SUBST FOR PURP TRAFF</td>\n",
       "      <td>2012</td>\n",
       "      <td>1</td>\n",
       "      <td>0</td>\n",
       "      <td>1</td>\n",
       "      <td>1</td>\n",
       "      <td>82.50710</td>\n",
       "    </tr>\n",
       "    <tr>\n",
       "      <th>3</th>\n",
       "      <td>U80A00008369</td>\n",
       "      <td>White</td>\n",
       "      <td>39</td>\n",
       "      <td>732.0</td>\n",
       "      <td>BRITISH COLUMBI</td>\n",
       "      <td>FEDERAL INSTITU</td>\n",
       "      <td>MEDIUM</td>\n",
       "      <td>HIGH</td>\n",
       "      <td>HIGH</td>\n",
       "      <td>LOW</td>\n",
       "      <td>...</td>\n",
       "      <td>U80A00048789</td>\n",
       "      <td>VANCOUVER PROVINCIAL COURT</td>\n",
       "      <td>U80A00029774</td>\n",
       "      <td>ASSAULT - USE OF FORCE</td>\n",
       "      <td>2012</td>\n",
       "      <td>1</td>\n",
       "      <td>0</td>\n",
       "      <td>1</td>\n",
       "      <td>1</td>\n",
       "      <td>104.76347</td>\n",
       "    </tr>\n",
       "    <tr>\n",
       "      <th>4</th>\n",
       "      <td>U80A00008369</td>\n",
       "      <td>White</td>\n",
       "      <td>39</td>\n",
       "      <td>732.0</td>\n",
       "      <td>BRITISH COLUMBI</td>\n",
       "      <td>FEDERAL INSTITU</td>\n",
       "      <td>MEDIUM</td>\n",
       "      <td>HIGH</td>\n",
       "      <td>HIGH</td>\n",
       "      <td>LOW</td>\n",
       "      <td>...</td>\n",
       "      <td>U80A00048789</td>\n",
       "      <td>VANCOUVER PROVINCIAL COURT</td>\n",
       "      <td>U80A00029785</td>\n",
       "      <td>ROBBERY - ALL OTHERS</td>\n",
       "      <td>2012</td>\n",
       "      <td>1</td>\n",
       "      <td>0</td>\n",
       "      <td>1</td>\n",
       "      <td>1</td>\n",
       "      <td>104.76347</td>\n",
       "    </tr>\n",
       "  </tbody>\n",
       "</table>\n",
       "<p>5 rows × 22 columns</p>\n",
       "</div>"
      ],
      "text/plain": [
       "    sentence_id   race  age  aggregate_sentence_length         province  \\\n",
       "0  U40A00014615  White   23                     1096.0          ONTARIO   \n",
       "1  U40A00014615  White   23                     1096.0          ONTARIO   \n",
       "2  U40A00014615  White   23                     1096.0          ONTARIO   \n",
       "3  U80A00008369  White   39                      732.0  BRITISH COLUMBI   \n",
       "4  U80A00008369  White   39                      732.0  BRITISH COLUMBI   \n",
       "\n",
       "     location_type offender_security_level dynamic/need static/risk  \\\n",
       "0  FEDERAL INSTITU                 MINIMUM       MEDIUM         LOW   \n",
       "1  FEDERAL INSTITU                 MINIMUM       MEDIUM         LOW   \n",
       "2  FEDERAL INSTITU                 MINIMUM       MEDIUM         LOW   \n",
       "3  FEDERAL INSTITU                  MEDIUM         HIGH        HIGH   \n",
       "4  FEDERAL INSTITU                  MEDIUM         HIGH        HIGH   \n",
       "\n",
       "  reintegration_potential  ...    warrant_id                       court  \\\n",
       "0                    HIGH  ...  U40A00081680        ONT COURT OF JUSTICE   \n",
       "1                    HIGH  ...  U40A00081680        ONT COURT OF JUSTICE   \n",
       "2                    HIGH  ...  U40A00081680        ONT COURT OF JUSTICE   \n",
       "3                     LOW  ...  U80A00048789  VANCOUVER PROVINCIAL COURT   \n",
       "4                     LOW  ...  U80A00048789  VANCOUVER PROVINCIAL COURT   \n",
       "\n",
       "     offence_id                      offence_description  year man indigenous  \\\n",
       "0  U40A00073751            POSS PROH/RESTR F/ARM W/AMMUN  2012   1          0   \n",
       "1  U40A00073752        FAIL TO COMPLY W/ PROBATION ORDER  2012   1          0   \n",
       "2  U40A00073753  POSS SCHEDULE I/II SUBST FOR PURP TRAFF  2012   1          0   \n",
       "3  U80A00029774                   ASSAULT - USE OF FORCE  2012   1          0   \n",
       "4  U80A00029785                     ROBBERY - ALL OTHERS  2012   1          0   \n",
       "\n",
       "   in_custody  determinate_sentence  offender_id  \n",
       "0           1                     1     82.50710  \n",
       "1           1                     1     82.50710  \n",
       "2           1                     1     82.50710  \n",
       "3           1                     1    104.76347  \n",
       "4           1                     1    104.76347  \n",
       "\n",
       "[5 rows x 22 columns]"
      ]
     },
     "execution_count": 14,
     "metadata": {},
     "output_type": "execute_result"
    }
   ],
   "source": [
    "df_clean.head()"
   ]
  },
  {
   "cell_type": "code",
   "execution_count": 15,
   "metadata": {},
   "outputs": [],
   "source": [
    "# Create a copy of cleaned dataframe\n",
    "df = df_clean.copy()\n",
    "\n",
    "# Filter to only men\n",
    "df = df[df['man']==1].reset_index(drop=True)\n",
    "\n",
    "# Filter to only relevant columns\n",
    "df = df_clean[['offender_id', 'year', 'indigenous', 'age', 'offence_description', 'static/risk', 'determinate_sentence', 'reintegration_potential']].copy()"
   ]
  },
  {
   "cell_type": "markdown",
   "metadata": {},
   "source": [
    "## Exploring column values"
   ]
  },
  {
   "cell_type": "code",
   "execution_count": 16,
   "metadata": {},
   "outputs": [
    {
     "name": "stdout",
     "output_type": "stream",
     "text": [
      "Value counts for year\n",
      "\n",
      "2012    107918\n",
      "2013    107243\n",
      "2014    107093\n",
      "2015    106059\n",
      "2016    106014\n",
      "2017    104638\n",
      "2018    102864\n",
      "Name: year, dtype: int64\n",
      "\n",
      "-------------------------\n",
      "\n",
      "Value counts for offence_description\n",
      "\n",
      "ROBBERY - ALL OTHERS                        36764\n",
      "FAIL TO COMPLY W/COND OF UNDER/RECOG        33660\n",
      "POSS SCHEDULE I/II SUBST FOR PURP TRAFF     29807\n",
      "BREAK ENTER AND COMMIT                      29245\n",
      "FAIL TO COMPLY W/ PROBATION ORDER           26450\n",
      "                                            ...  \n",
      "SEX ASSAULT W/THREATS TO CBH- FIREARM           1\n",
      "HIJACK - CONFINE PERSON                         1\n",
      "BREACH OF CONTRACT TO CAUSE INJURY              1\n",
      "SEXUAL ASSAULT-PARTY TO OFFENCE- FIREARM        1\n",
      "THEFT OF TELECOMMUNICATION SERV - UNDER         1\n",
      "Name: offence_description, Length: 739, dtype: int64\n",
      "\n",
      "-------------------------\n",
      "\n",
      "Value counts for static/risk\n",
      "\n",
      "HIGH      378885\n",
      "MEDIUM    251230\n",
      "LOW        90098\n",
      "Name: static/risk, dtype: int64\n",
      "\n",
      "-------------------------\n",
      "\n",
      "Value counts for reintegration_potential\n",
      "\n",
      "MEDIUM    308300\n",
      "LOW       282332\n",
      "HIGH      128796\n",
      "Name: reintegration_potential, dtype: int64\n",
      "\n",
      "-------------------------\n",
      "\n"
     ]
    }
   ],
   "source": [
    "for col in df.select_dtypes(object).columns:\n",
    "    print(f'Value counts for {col}\\n')\n",
    "    print(df[col].value_counts())\n",
    "    print('\\n-------------------------\\n')"
   ]
  },
  {
   "cell_type": "markdown",
   "metadata": {},
   "source": [
    "## Transforming static/risk column"
   ]
  },
  {
   "cell_type": "code",
   "execution_count": 17,
   "metadata": {},
   "outputs": [],
   "source": [
    "# Lowercase column values\n",
    "df['static/risk'] = df['static/risk'].str.lower()"
   ]
  },
  {
   "cell_type": "code",
   "execution_count": 18,
   "metadata": {},
   "outputs": [],
   "source": [
    "# Dummify static/risk column, dropping medium risk column\n",
    "static_dummies = pd.get_dummies(df['static/risk'], prefix='static').drop('static_medium', axis=1)"
   ]
  },
  {
   "cell_type": "code",
   "execution_count": 19,
   "metadata": {},
   "outputs": [],
   "source": [
    "# Add dummy columns to dataframe & remove original column\n",
    "df = pd.concat([df, static_dummies], axis=1).drop('static/risk', axis=1)"
   ]
  },
  {
   "cell_type": "markdown",
   "metadata": {},
   "source": [
    "## Filtering to top offences"
   ]
  },
  {
   "cell_type": "code",
   "execution_count": 20,
   "metadata": {},
   "outputs": [],
   "source": [
    "# Lowercase column values & replace whitespaces with underscores\n",
    "df['offence_description'] = df['offence_description'].str.lower().str.replace(' ', '_')"
   ]
  },
  {
   "cell_type": "code",
   "execution_count": 21,
   "metadata": {},
   "outputs": [],
   "source": [
    "# Get normalized value counts for all offence descriptions\n",
    "offence_pcts = df['offence_description'].value_counts(normalize=True)"
   ]
  },
  {
   "cell_type": "code",
   "execution_count": 22,
   "metadata": {},
   "outputs": [
    {
     "data": {
      "text/plain": [
       "robbery_-_all_others                       0.049559\n",
       "fail_to_comply_w/cond_of_under/recog       0.045374\n",
       "poss_schedule_i/ii_subst_for_purp_traff    0.040180\n",
       "break_enter_and_commit                     0.039423\n",
       "fail_to_comply_w/_probation_order          0.035655\n",
       "                                             ...   \n",
       "conspire_to_commit_murder                  0.001073\n",
       "discharge_rest/proh_firearm_w/intent       0.001037\n",
       "prison_breach_with_intent                  0.001035\n",
       "impaired_driving_-_cbh                     0.001014\n",
       "production_of_sched_i/ii_subst             0.001011\n",
       "Name: offence_description, Length: 136, dtype: float64"
      ]
     },
     "execution_count": 22,
     "metadata": {},
     "output_type": "execute_result"
    }
   ],
   "source": [
    "# Filter to offence descriptions that appear in more than 0.1% of the data\n",
    "offence_pcts[offence_pcts > .001]"
   ]
  },
  {
   "cell_type": "code",
   "execution_count": 23,
   "metadata": {},
   "outputs": [],
   "source": [
    "# Create a list of these top offences\n",
    "top_offences = offence_pcts[offence_pcts > .001].index.tolist()"
   ]
  },
  {
   "cell_type": "code",
   "execution_count": 24,
   "metadata": {},
   "outputs": [],
   "source": [
    "# Filter dataframe to only rows with one of these top offences\n",
    "df_filtered = df[df['offence_description'].isin(top_offences)].reset_index(drop=True)"
   ]
  },
  {
   "cell_type": "markdown",
   "metadata": {},
   "source": [
    "## Transforming data"
   ]
  },
  {
   "cell_type": "code",
   "execution_count": 25,
   "metadata": {},
   "outputs": [],
   "source": [
    "# Dummify offence description column\n",
    "offence_dummies = pd.get_dummies(df_filtered['offence_description'], prefix='offence')"
   ]
  },
  {
   "cell_type": "markdown",
   "metadata": {},
   "source": [
    "There are two ways we may want to aggregate our dummified offence description columns: We can either record the inmate's total number of charges for each offence type, or we can simply record whether or not the inmate was charged with each offence type (regardless of the total number of charges). It's not clear to me which method will be better for modelling purposes, so I'll here do both."
   ]
  },
  {
   "cell_type": "code",
   "execution_count": 26,
   "metadata": {},
   "outputs": [],
   "source": [
    "# Select all columns other than Offence Description and Reintegration Potential (target variable)\n",
    "df_others = df_filtered.drop(['offence_description', 'reintegration_potential'], axis=1)"
   ]
  },
  {
   "cell_type": "code",
   "execution_count": 27,
   "metadata": {},
   "outputs": [],
   "source": [
    "# Group dataframe by Offender ID and year (i.e., one row for each unique reintegration potential assessment)\n",
    "# All values are the same across each set of grouped rows, so taking the max will retrieve those values\n",
    "df_others_grouped = df_others.groupby(['offender_id', 'year']).max()"
   ]
  },
  {
   "cell_type": "code",
   "execution_count": 29,
   "metadata": {},
   "outputs": [],
   "source": [
    "# Create dataframe of dependent variable, similarly grouped\n",
    "df_y_grouped = df_filtered.groupby(['offender_id', 'year'])['reintegration_potential'].max()\n",
    "\n",
    "# Reset index\n",
    "y = df_y_grouped.reset_index(drop=True)"
   ]
  },
  {
   "cell_type": "markdown",
   "metadata": {},
   "source": [
    "### Summing strategy"
   ]
  },
  {
   "cell_type": "code",
   "execution_count": 30,
   "metadata": {},
   "outputs": [],
   "source": [
    "# Add dummy columns to dataframe's Offender ID & year columns\n",
    "df_off_dummies = pd.concat([df_filtered[['offender_id', 'year']], offence_dummies], axis=1)\n",
    "\n",
    "# Group dataframe and take the sum\n",
    "df_off_sum = df_off_dummies.groupby(['offender_id', 'year']).sum()\n",
    "\n",
    "# Add summed dummy columns to others\n",
    "df_X_sum = pd.concat([df_others_grouped, df_off_sum], axis=1)\n",
    "\n",
    "# Reset index\n",
    "X_sum = df_X_sum.reset_index(drop=True)"
   ]
  },
  {
   "cell_type": "markdown",
   "metadata": {},
   "source": [
    "### Binary strategy"
   ]
  },
  {
   "cell_type": "code",
   "execution_count": 31,
   "metadata": {},
   "outputs": [],
   "source": [
    "# Group dataframe and take the max\n",
    "df_off_binary = df_off_dummies.groupby(['offender_id', 'year']).max()\n",
    "\n",
    "# Add binary dummy columns to others\n",
    "df_X_binary = pd.concat([df_others_grouped, df_off_binary], axis=1)\n",
    "\n",
    "# Reset index\n",
    "X_binary = df_X_binary.reset_index(drop=True)"
   ]
  },
  {
   "cell_type": "code",
   "execution_count": 32,
   "metadata": {},
   "outputs": [],
   "source": [
    "# Write dataframes to file\n",
    "X_sum.to_csv('~/data/ParoleModels/X_sum.csv', index=False)\n",
    "X_binary.to_csv('~/data/ParoleModels/X_binary.csv', index=False)\n",
    "y.to_csv('~/data/ParoleModels/y.csv', index=False)"
   ]
  }
 ],
 "metadata": {
  "kernelspec": {
   "display_name": "Python 3",
   "language": "python",
   "name": "python3"
  },
  "language_info": {
   "codemirror_mode": {
    "name": "ipython",
    "version": 3
   },
   "file_extension": ".py",
   "mimetype": "text/x-python",
   "name": "python",
   "nbconvert_exporter": "python",
   "pygments_lexer": "ipython3",
   "version": "3.7.4"
  }
 },
 "nbformat": 4,
 "nbformat_minor": 4
}
